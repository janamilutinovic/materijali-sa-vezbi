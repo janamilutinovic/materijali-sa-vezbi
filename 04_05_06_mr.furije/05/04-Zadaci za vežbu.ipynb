{
 "cells": [
  {
   "cell_type": "code",
   "execution_count": 3,
   "metadata": {},
   "outputs": [],
   "source": [
    "import numpy as np\n",
    "import matplotlib.pyplot as plt\n",
    "from PIL import Image"
   ]
  },
  {
   "cell_type": "markdown",
   "metadata": {},
   "source": [
    "1. Odrediti Furijeov spektar sledećih slika:\n",
    "<div class=\"container\" style=\"width: 100%;\">\n",
    "  <div class=\"theme-table-image col-sm-6 center\">\n",
    "    <img src='assets/vertikalne_linije.gif' style='width:150px;'>\n",
    "  </div>\n",
    "  <div class=\"theme-table-image col-sm-6\">\n",
    "      <img src='assets/dijagonalne_linije.gif' style='width:150px;'>\n",
    "  </div>\n",
    "</div>"
   ]
  },
  {
   "cell_type": "markdown",
   "metadata": {},
   "source": [
    "Kako bi izgledao Furijeov spektar slike koja sadrži horizontalne linije?"
   ]
  },
  {
   "cell_type": "code",
   "execution_count": null,
   "metadata": {},
   "outputs": [],
   "source": []
  },
  {
   "cell_type": "markdown",
   "metadata": {},
   "source": [
    "2. Primeniti nad Furijeovim spektrom slike <img src='assets/kuca.gif' style='width:200px;'> masku određenu slikom <img src='assets/kuca_maska.gif' style='width:100px;'> Šta se dobija kao rezultat?"
   ]
  },
  {
   "cell_type": "markdown",
   "metadata": {},
   "source": [
    "3. Filter usrednjavanja (eng. `mean filter`) se koristi za ujednačavanje varijacija između susednih piksela. Zato su nakon njegove primene slike glatkije. Osnovna ideja ovog filtera je zamena vrednosti piksela prosekom njegovih suseda, uključujući i njega samog. Na primer, filter usrednjavanja dimenzije 3x3 je matrica koja sadrži vrednost 1/9 na svim pozicijama. <img src='assets/mean_filter.png' style='width: 200px'>. "
   ]
  },
  {
   "cell_type": "markdown",
   "metadata": {},
   "source": [
    "3a) Nad slikom <img src='assets/kule.gif' style='width: 300px'> primeniti prvo filter usrednjavanja, a zatim i ugradjeni filter za detekciju ivica. "
   ]
  },
  {
   "cell_type": "markdown",
   "metadata": {},
   "source": [
    "3b) Kakav se rezultat dobije ukoliko se izostavi filter usrednjavanja?"
   ]
  },
  {
   "cell_type": "code",
   "execution_count": null,
   "metadata": {},
   "outputs": [],
   "source": []
  }
 ],
 "metadata": {
  "kernelspec": {
   "display_name": "Python 3",
   "language": "python",
   "name": "python3"
  },
  "language_info": {
   "codemirror_mode": {
    "name": "ipython",
    "version": 3
   },
   "file_extension": ".py",
   "mimetype": "text/x-python",
   "name": "python",
   "nbconvert_exporter": "python",
   "pygments_lexer": "ipython3",
   "version": "3.7.6"
  }
 },
 "nbformat": 4,
 "nbformat_minor": 4
}
