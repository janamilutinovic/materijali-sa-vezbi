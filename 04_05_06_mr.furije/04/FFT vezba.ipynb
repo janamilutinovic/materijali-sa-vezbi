{
 "cells": [
  {
   "cell_type": "code",
   "execution_count": 2,
   "metadata": {},
   "outputs": [],
   "source": [
    "import numpy as np"
   ]
  },
  {
   "cell_type": "code",
   "execution_count": null,
   "metadata": {},
   "outputs": [],
   "source": []
  },
  {
   "cell_type": "markdown",
   "metadata": {},
   "source": [
    "1. Ako je frekvencija uzorkovanja signala 10KHz i ako je dobijeno N = 1024 uzoraka, odrediti:\n",
    "<br>\n",
    "a) frekvencijsku rezoluciju\n",
    "<br>\n",
    "b) najvecu frekvenciju u frekvencijskom spektru"
   ]
  },
  {
   "cell_type": "markdown",
   "metadata": {},
   "source": [
    "2. Ako je frekvencija uzorkovanja signala 10KHz i treba obezbediti frekvencijsku rezoluciju of 0.5Hz, koliko tacaka je potrebno za brzu Furijeovu transformaciju? "
   ]
  },
  {
   "cell_type": "markdown",
   "metadata": {},
   "source": [
    "3. Na osnovu uzorkovanja signala oblika $f(t) = cos(2\\pi f_0t)$ u trajanju od 0.5 sekundi dobijene su 32 vrednosti ciji je grafik prikazan u gornjem delu slike, a diskretnom Furijeovom transformacijom signala, dobijena je spektralna analiza prikazana na donjem delu slike. \n",
    "\n",
    "<img src ='assets/spektri.png'> \n",
    "a) Kolika je frekvencija uzorkovanja $F_s$ signala f(t)? \n",
    "<br>\n",
    "b) Kolika je osnovna (fundamentalna) frekvencija signala f?\n",
    "<br>\n",
    "c) Nacrtati frekvencijski spektar za signal cija je osnovna frekvencija f+1 i objasniti promene do kojih je dolazi. \n",
    "\n"
   ]
  },
  {
   "cell_type": "code",
   "execution_count": null,
   "metadata": {},
   "outputs": [],
   "source": []
  }
 ],
 "metadata": {
  "kernelspec": {
   "display_name": "Python 3",
   "language": "python",
   "name": "python3"
  },
  "language_info": {
   "codemirror_mode": {
    "name": "ipython",
    "version": 3
   },
   "file_extension": ".py",
   "mimetype": "text/x-python",
   "name": "python",
   "nbconvert_exporter": "python",
   "pygments_lexer": "ipython3",
   "version": "3.7.4"
  }
 },
 "nbformat": 4,
 "nbformat_minor": 2
}
