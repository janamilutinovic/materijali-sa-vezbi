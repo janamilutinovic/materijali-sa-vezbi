{
 "cells": [
  {
   "cell_type": "markdown",
   "metadata": {},
   "source": [
    "### PageRank algoritam"
   ]
  },
  {
   "cell_type": "markdown",
   "metadata": {},
   "source": [
    "PageRank je algoritam na kojem je bazirano inicijalno rangiranje rezultata Guglove pretrage. U nekoj meri on se koristi i danas, uzimajući u obzir i druge aspekte stranica poput kvaliteta sadržaja, vremenske relevantnosti, personalizacije, raznovrsnosti ukupne liste rezultata i slično. <img src='assets/web.png'>"
   ]
  },
  {
   "cell_type": "markdown",
   "metadata": {},
   "source": [
    "Pretpostavimo da je veb predstavljen usmerenim grafom u kojem su same stranice čvorovi grafa, a usmerena ivica od jednog ka drugom čvoru grafa hiperlink od jedne stranice ka drugoj, ukoliko postoji. Neka je skup svih čvorova označen sa $V$, skup svih čvorova iz kojih ne polazi nijedna ivica sa $V'$ (skup stranica koje nemaju linkove ka drugim stranicama). Neka su, dalje, za svaki čvor $v$, skupovi čvorova iz kojih vodi ivica ka $v$ i skupovi čvorova ka kojima polazi ivica iz $v$ označeni redom sa $P_v$ i $N_v$. Neka je $t_v$ numerička preferencija korisnika ka stranici $v$ takva da je zbir koordinata unutar vektora preferencija $t$ ka svim strnicama jednak $1$. Neka je još $n_v$ broj linkova na strani $v$ i $p_v$ verovatnoća da će korisnik posetiti stranicu $v$."
   ]
  },
  {
   "cell_type": "markdown",
   "metadata": {},
   "source": [
    "Kod pagerank algoritma se razmatraju dva faktora koja utiču na vrednost $p_v$. Sa jedne strane se razmatraju sve stranice $u \\in P_v$ od kojih postoji hiperlink ka stranici $v$. Sa druge strane, pretpostavka je da se preko čvora $v$ hiperlinkom može stići do nekog čvora $u \\in N_v \\cap V'$ od koga ne postoji hiperlink ni ka jednoj stranici. Tada korisnik, sa nekom verovatnoćom usklađenom sa njegovim preferencijama može posetiti stranicu $v$. Dakle, za sve $v \\in V$ važi\n",
    "\n",
    "$$p_v = \\sum_{u \\in P_v} \\frac{1}{n_u}p_u + \\sum_{u \\in N_v \\cap V'} t_up_u.$$"
   ]
  },
  {
   "cell_type": "markdown",
   "metadata": {},
   "source": [
    "Pokušajmo ovo da zapišemo u matričnom obliku. Neka je $k$ vektor takav da je $k_v = 1$ ako je $v \\in V'$, a $k_v = 0$ inače. Neka je $A$ matrica takva da je $A_{ij} = 1/n_j$ ako postoji usmerena ivica od $j$ ka $i$, a $A_{ij} = 0$ inače. Tada je $p = (A + tk^T)p$."
   ]
  },
  {
   "cell_type": "markdown",
   "metadata": {},
   "source": [
    "Neka je $\\alpha$ verovatnoća izbora jedne od veza na tekućoj strani. Tada je verovatnoća da se ne izabere veza na tekućoj strani jednaka $1 - \\alpha$. Prethodni obrazac se za svako $v \\in V$ sada  može preformulisati sa \n",
    "\n",
    "$$p_v = \\sum_{u \\in P_v} \\frac{\\alpha}{n_u}p_u + \\sum_{u \\in N_v \\cap V'} \\alpha t_up_u + (1 - \\alpha) t_vp_v.$$"
   ]
  },
  {
   "cell_type": "markdown",
   "metadata": {},
   "source": [
    "U matričnom obliku obrazac sada postaje $$p = (\\alpha(A + tk^T) + (1 - \\alpha)te^T)p$$ gde je $e$ vektor koji sadrži sve jedinice i čija je dužina jednaka dužini vektora $p$. \n",
    "\n",
    "Matrica $$G = \\alpha(A + tk^T) + (1 - \\alpha)te^T$$ se naziva `Guglova matrica`. Vektor $p$ je očigledno njen sopstveni vektor kojem odgovara sopstvena vrednost 1. Kako za matricu $G$ važi da je stohastička i da je vrednost 1 njena najveća sopstvena vrednost, $p$ će ujedno biti i njen najveći sopstveni vektor koji možemo pronaći metodom stepenovanja. "
   ]
  },
  {
   "cell_type": "markdown",
   "metadata": {},
   "source": [
    "U nastavku ćemo prikazati implementaciju `pagerank` algoritma na osnovu opisanog postupka. Nasumično ćemo generisati sve vrednosti vodeći računa o navedenim uslovima."
   ]
  },
  {
   "cell_type": "code",
   "execution_count": 1,
   "metadata": {},
   "outputs": [],
   "source": [
    "import numpy as np\n",
    "from numpy import linalg as LA\n",
    "np.random.seed(10)"
   ]
  },
  {
   "cell_type": "markdown",
   "metadata": {},
   "source": [
    "Funkcija koja implementira metod stepenovanja. Iskoristićemo je za efikasno pronalaženje najveće sopstvene vrednosti Guglove matrice. "
   ]
  },
  {
   "cell_type": "code",
   "execution_count": 2,
   "metadata": {},
   "outputs": [],
   "source": [
    "def power_method(A, iterations):\n",
    "    N = A.shape[0]\n",
    "    b = np.random.rand(N)\n",
    "    for _ in range(iterations):\n",
    "        b = np.dot(A, b) / LA.norm(np.dot(A, b))\n",
    "    return b"
   ]
  },
  {
   "cell_type": "code",
   "execution_count": null,
   "metadata": {},
   "outputs": [],
   "source": []
  },
  {
   "cell_type": "code",
   "execution_count": 3,
   "metadata": {},
   "outputs": [],
   "source": [
    "# Neka N predstavlja broj cvorova u grafu tj. velicinu veba\n",
    "N = 10 "
   ]
  },
  {
   "cell_type": "code",
   "execution_count": 4,
   "metadata": {},
   "outputs": [],
   "source": [
    "# Neka matrica A predstavlja matricu povezanosti izmedju cvorova-stranica\n",
    "# Njeni element Aij ce imati vrednost 0 ukoliko ne postoji veza između cvora i i cvora j\n",
    "# U suprotnom cemo elementima pridruziti nasumicne vrednosti ali tako da matrica bude stohasticka\n",
    "A = np.zeros((N, N)) \n",
    "\n",
    "# Vektor k ce predstavljati vektor indeksa čvorova-stranica na kojima nema hiperveza \n",
    "k = np.zeros(N) \n",
    "\n",
    "\n",
    "# Generišimo nasumicno matricu A i na osnovu nje vektor k\n",
    "def init(A, k, N):\n",
    "    for i in range(0, N):\n",
    "\n",
    "        # Generisemo proizvoljan  broj linkova na stranici\n",
    "        number_of_links = np.random.randint(low=0, high=N)\n",
    "\n",
    "        # Odredjujemo da li cvor treba upisati u niz k\n",
    "        if number_of_links == 0:\n",
    "            k[i] = 1\n",
    "\n",
    "        # Generisemo kolonu matrice A koja sadrzi generisani broj linkova tj. jedinica i preostali broj nula \n",
    "        column = np.ones(number_of_links)\n",
    "        column = np.append(column, np.zeros(N-number_of_links))\n",
    "        np.random.shuffle(column)\n",
    "\n",
    "        # Matrica treba da bude stohasticka matrica tj. sa zbirom 1 po kolonama\n",
    "        if number_of_links != 0:\n",
    "            column = column / number_of_links\n",
    "\n",
    "        # Pridruzujemo kolonu matrici A\n",
    "        A[:, i] = column"
   ]
  },
  {
   "cell_type": "code",
   "execution_count": 5,
   "metadata": {},
   "outputs": [],
   "source": [
    "init(A, k, N)"
   ]
  },
  {
   "cell_type": "code",
   "execution_count": 6,
   "metadata": {},
   "outputs": [
    {
     "data": {
      "text/plain": [
       "array([[0.11111111, 0.        , 0.        , 0.33333333, 0.        ,\n",
       "        0.        , 0.25      , 0.16666667, 0.        , 0.        ],\n",
       "       [0.11111111, 0.        , 0.        , 0.33333333, 0.5       ,\n",
       "        0.        , 0.25      , 0.16666667, 0.        , 0.        ],\n",
       "       [0.11111111, 0.        , 0.16666667, 0.        , 0.        ,\n",
       "        0.        , 0.25      , 0.        , 0.        , 0.        ],\n",
       "       [0.11111111, 0.        , 0.16666667, 0.        , 0.        ,\n",
       "        0.        , 0.        , 0.16666667, 0.        , 0.        ],\n",
       "       [0.11111111, 0.        , 0.16666667, 0.        , 0.        ,\n",
       "        0.5       , 0.        , 0.        , 0.        , 1.        ],\n",
       "       [0.        , 0.        , 0.        , 0.33333333, 0.        ,\n",
       "        0.        , 0.        , 0.16666667, 0.        , 0.        ],\n",
       "       [0.11111111, 0.        , 0.16666667, 0.        , 0.5       ,\n",
       "        0.        , 0.        , 0.16666667, 0.        , 0.        ],\n",
       "       [0.11111111, 0.        , 0.16666667, 0.        , 0.        ,\n",
       "        0.        , 0.        , 0.        , 0.        , 0.        ],\n",
       "       [0.11111111, 1.        , 0.16666667, 0.        , 0.        ,\n",
       "        0.        , 0.        , 0.        , 0.        , 0.        ],\n",
       "       [0.11111111, 0.        , 0.        , 0.        , 0.        ,\n",
       "        0.5       , 0.25      , 0.16666667, 0.        , 0.        ]])"
      ]
     },
     "execution_count": 6,
     "metadata": {},
     "output_type": "execute_result"
    }
   ],
   "source": [
    "A"
   ]
  },
  {
   "cell_type": "code",
   "execution_count": 7,
   "metadata": {},
   "outputs": [
    {
     "data": {
      "text/plain": [
       "array([0., 0., 0., 0., 0., 0., 0., 0., 1., 0.])"
      ]
     },
     "execution_count": 7,
     "metadata": {},
     "output_type": "execute_result"
    }
   ],
   "source": [
    "k"
   ]
  },
  {
   "cell_type": "code",
   "execution_count": null,
   "metadata": {},
   "outputs": [],
   "source": []
  },
  {
   "cell_type": "code",
   "execution_count": 8,
   "metadata": {},
   "outputs": [],
   "source": [
    "# parametar alpha cemo postaviti na originalnu vrednost PageRank algoritma\n",
    "alpha = 0.85  \n",
    "\n",
    "# Vektor e sadrzi sve jedinice\n",
    "e = np.ones((N,1)) \n",
    "\n",
    "# Vektor preferencija t treba generisati proizvoljno, ali tako da mu je suma elemenata jednaka 1\n",
    "t = np.random.rand(N)\n",
    "t = t / np.sum(t)\n",
    "t = t.reshape(N, 1)\n",
    "\n",
    "# Prilagodicemo i dimenziju vektora k\n",
    "k = k.reshape(N, 1)"
   ]
  },
  {
   "cell_type": "code",
   "execution_count": 9,
   "metadata": {},
   "outputs": [],
   "source": [
    "# Odredjujemo matricu G\n",
    "G = alpha*(A + np.dot(t, k.T)) + (1-alpha)*np.dot(t, e.T)"
   ]
  },
  {
   "cell_type": "code",
   "execution_count": 10,
   "metadata": {},
   "outputs": [
    {
     "data": {
      "text/plain": [
       "[1.0, 1.0, 1.0, 1.0, 1.0, 1.0, 1.0, 1.0, 0.9999999999999999, 1.0]"
      ]
     },
     "execution_count": 10,
     "metadata": {},
     "output_type": "execute_result"
    }
   ],
   "source": [
    "# Uverimo se da su sve vrednosti zbira kolona matrice G jednake 1\n",
    "[np.sum(G[:, i]) for i in range(N)]"
   ]
  },
  {
   "cell_type": "code",
   "execution_count": 11,
   "metadata": {},
   "outputs": [],
   "source": [
    "# Odredjujemo p kao sopstveni vektora matrice G koji odgovara najvecoj sopstvenoj vrednosti tj. 1\n",
    "p = power_method(G, 1000)"
   ]
  },
  {
   "cell_type": "code",
   "execution_count": 12,
   "metadata": {},
   "outputs": [
    {
     "data": {
      "text/plain": [
       "array([0.19876382, 0.49299196, 0.15534342, 0.11883236, 0.43931351,\n",
       "       0.11724512, 0.28317314, 0.188301  , 0.51868789, 0.29626841])"
      ]
     },
     "execution_count": 12,
     "metadata": {},
     "output_type": "execute_result"
    }
   ],
   "source": [
    "p"
   ]
  },
  {
   "cell_type": "code",
   "execution_count": 13,
   "metadata": {},
   "outputs": [
    {
     "data": {
      "text/plain": [
       "array([5, 3, 2, 7, 0, 6, 9, 4, 1, 8])"
      ]
     },
     "execution_count": 13,
     "metadata": {},
     "output_type": "execute_result"
    }
   ],
   "source": [
    "# Na osnovu vrednosti u vektoru p sada mozemo rangirati nas skup od N stranica\n",
    "np.argsort(p)"
   ]
  },
  {
   "cell_type": "code",
   "execution_count": null,
   "metadata": {},
   "outputs": [],
   "source": []
  }
 ],
 "metadata": {
  "kernelspec": {
   "display_name": "Python 3",
   "language": "python",
   "name": "python3"
  },
  "language_info": {
   "codemirror_mode": {
    "name": "ipython",
    "version": 3
   },
   "file_extension": ".py",
   "mimetype": "text/x-python",
   "name": "python",
   "nbconvert_exporter": "python",
   "pygments_lexer": "ipython3",
   "version": "3.7.6"
  }
 },
 "nbformat": 4,
 "nbformat_minor": 2
}
