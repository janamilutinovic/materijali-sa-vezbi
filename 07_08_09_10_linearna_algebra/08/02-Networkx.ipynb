{
 "cells": [
  {
   "cell_type": "markdown",
   "metadata": {},
   "source": [
    "### Biblioteka networkx"
   ]
  },
  {
   "cell_type": "markdown",
   "metadata": {},
   "source": [
    "**Networkx** je Python biblioteka koja podržava rad sa grafovima. Neusmereni graf se kreira funkcijom `Graph()`, a grane se dodaju funkcijom `add_edge(...)`, čija su prva dva argumenta, redom, početni i krajnji čvor grane. Ukoliko pri dodavanju nove grane čvor ne postoji, on se automatski kreira. Pored toga, mogu se specificirati vrednosti ostalih argumenata, pa se granama mogu dodeljivati razni atributi. Nama je od značaja parametar `weight` koji predstavlja težinu grane. "
   ]
  },
  {
   "cell_type": "markdown",
   "metadata": {},
   "source": [
    "U nastavku ćemo kao primer konstruisati i prikazati jednostavan graf."
   ]
  },
  {
   "cell_type": "code",
   "execution_count": 1,
   "metadata": {},
   "outputs": [],
   "source": [
    "import networkx as nx"
   ]
  },
  {
   "cell_type": "code",
   "execution_count": 2,
   "metadata": {},
   "outputs": [],
   "source": [
    "G = nx.Graph()\n",
    "G.add_edge('a', 'b', weight = 0.6)\n",
    "G.add_edge('a', 'c', weight = 0.2)\n",
    "G.add_edge('c', 'd', weight = 0.1)\n",
    "G.add_edge('c', 'e', weight = 0.7)\n",
    "G.add_edge('c', 'f', weight = 0.9)\n",
    "G.add_edge('a', 'd', weight = 0.3)"
   ]
  },
  {
   "cell_type": "code",
   "execution_count": null,
   "metadata": {},
   "outputs": [],
   "source": []
  },
  {
   "cell_type": "markdown",
   "metadata": {},
   "source": [
    "Prethodni graf prikazaćemo korišćenjem `matplotlib.pyplot` biblioteke na sledeći način:\n",
    "\n",
    "* čvorove ćemo obojiti u plavo i postaviti im veličinu na 1000;\n",
    "* oznake čvorova ćemo obojiti u žuto i prikazati *Arial* fontom veličine 20px;\n",
    "* grane čija je težina veća od 0.5 obojićemo u crveno i postaviti im debljinu na 3;\n",
    "* grane čija je težina manja ili jednaka 0.5 obojićemo, takođe, u crveno, ali ćemo im postaviti debljinu na 2 i iscrtati ih isprekidanom linijom;\n",
    "* prilikom iscrtavanja grafa nećemo iscrtati ose."
   ]
  },
  {
   "cell_type": "code",
   "execution_count": 3,
   "metadata": {},
   "outputs": [],
   "source": [
    "import matplotlib.pyplot as plt\n",
    "%matplotlib inline"
   ]
  },
  {
   "cell_type": "code",
   "execution_count": 4,
   "metadata": {},
   "outputs": [
    {
     "data": {
      "image/png": "[encoded data removed]",
      "text/plain": [
       "<Figure size 432x288 with 1 Axes>"
      ]
     },
     "metadata": {},
     "output_type": "display_data"
    }
   ],
   "source": [
    "# Najpre odredjujemo koje su vece, a koje manje grane\n",
    "large_edges, small_edges = [], []\n",
    "for (u, v, data) in G.edges(data=True):\n",
    "    if data['weight'] > 0.5:\n",
    "        large_edges.append((u, v))\n",
    "    else:\n",
    "        small_edges.append((u, v))\n",
    "\n",
    "# spring layout je jedan nacin pozicioniranje grafa koji cemo koristiti\n",
    "pos = nx.spring_layout(G)\n",
    "\n",
    "# Iscrtavamo cvorove\n",
    "nx.draw_networkx_nodes(G, pos, node_color='blue', node_size=1000)\n",
    "\n",
    "# Iscrtavamo oznake cvorova\n",
    "nx.draw_networkx_labels(G, pos, font_color='yellow', font_size=20, font_family='arial')\n",
    "\n",
    "# Iscrtavamo vece grane\n",
    "nx.draw_networkx_edges(G, pos, edgelist=large_edges, width=3, edge_color='red')\n",
    "\n",
    "# Iscrtavamo manje grane\n",
    "nx.draw_networkx_edges(G, pos, edgelist=small_edges, width=2, edge_color='red', style='dashed')\n",
    "\n",
    "# Iskljucujemo ose\n",
    "plt.axis('off')\n",
    "\n",
    "# I prikazujemo graf\n",
    "plt.show()"
   ]
  },
  {
   "cell_type": "markdown",
   "metadata": {},
   "source": [
    "Biblioteka nudi veliki broj funkcija za rad sa grafovima, od elementarnih poput dodavanja novih čvorova i grana, do kompleksnijih poput pronalaženja najkraćeg rastojanja i ispitivanja okolina. Jedan od funkcija koja stoji na raspolaganju je i `pagerank` koja nudi mogućnost sortiranja čvorova. Kao ulaz očekuje usmereni graf, vrednost parametra alfa i vektor preferencija korisnika. "
   ]
  },
  {
   "cell_type": "markdown",
   "metadata": {},
   "source": [
    "Usmereni graf se može kreirati funkcijom `DiGraph()` na osnovu matrice povezanosti ili pomoću funkcije `from_numpy_matrix` paketa `nx` uz eksplicitno navođenje parametra `create_using=nx.DiGraph`."
   ]
  },
  {
   "cell_type": "markdown",
   "metadata": {},
   "source": [
    "Za dalje istraživanje biblioteke možete pogledati [zvaničnu dokumentaciju](https://networkx.github.io/documentation/stable/tutorial.html)."
   ]
  },
  {
   "cell_type": "code",
   "execution_count": null,
   "metadata": {},
   "outputs": [],
   "source": []
  }
 ],
 "metadata": {
  "kernelspec": {
   "display_name": "Python 3",
   "language": "python",
   "name": "python3"
  },
  "language_info": {
   "codemirror_mode": {
    "name": "ipython",
    "version": 3
   },
   "file_extension": ".py",
   "mimetype": "text/x-python",
   "name": "python",
   "nbconvert_exporter": "python",
   "pygments_lexer": "ipython3",
   "version": "3.7.6"
  }
 },
 "nbformat": 4,
 "nbformat_minor": 4
}
