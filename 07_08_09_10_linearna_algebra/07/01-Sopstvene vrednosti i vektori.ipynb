{
 "cells": [
  {
   "cell_type": "markdown",
   "metadata": {},
   "source": [
    "# Sopstvene vrednosti i sopstveni vektori matrice"
   ]
  },
  {
   "cell_type": "markdown",
   "metadata": {},
   "source": [
    "Kvadratna matrica $A$ ima sopstveni vektor $x$ i sopstvenu vrednost $\\lambda$, ukoliko važi $Ax = \\lambda x$, $x \\ne 0$. Poznato je da različitim sopstvenim vrednostima odgovaraju linearno nezavisni sopstveni vektori, kao i da su sopstvene vrednosti jednake nulama karakterističnog polinoma $\\det(A − \\lambda I)$."
   ]
  },
  {
   "cell_type": "markdown",
   "metadata": {},
   "source": [
    "Geometrijski, sopstveni vektori su vektori koji u transformaciji indukovanoj maticom A ne menjaju svoj pravac. Smer i dužina vektora se mogu promeniti i tu promenu reflektuje sopstvena vrednost. Na slici, na primer, plavi i ljubičasti vektori odgovaraju pravcima sopstvenih vektora."
   ]
  },
  {
   "cell_type": "markdown",
   "metadata": {},
   "source": [
    "<img src='assets/eigenvectors.gif'>"
   ]
  },
  {
   "cell_type": "code",
   "execution_count": null,
   "metadata": {},
   "outputs": [],
   "source": []
  },
  {
   "cell_type": "code",
   "execution_count": 1,
   "metadata": {},
   "outputs": [],
   "source": [
    "import numpy as np\n",
    "from numpy import linalg as LA"
   ]
  },
  {
   "cell_type": "markdown",
   "metadata": {},
   "source": [
    "Podsetimo se da funkcija `eig` paketa `numpy.linalg` vraća niz sopstvenih vrednosti i matricu sopstvenih vektora. Sopstveni vektori su u matrici predstavljeni kolonama pri čemu je $i$-ta kolona u matrici sopstveni vektor koji odgovara $i$-toj sopstvenoj vrednosti u nizu."
   ]
  },
  {
   "cell_type": "code",
   "execution_count": 2,
   "metadata": {},
   "outputs": [],
   "source": [
    "A = np.array([[0.5, 0.5], [0.2, 0.8]])"
   ]
  },
  {
   "cell_type": "code",
   "execution_count": 3,
   "metadata": {},
   "outputs": [
    {
     "data": {
      "text/plain": [
       "array([[0.5, 0.5],\n",
       "       [0.2, 0.8]])"
      ]
     },
     "execution_count": 3,
     "metadata": {},
     "output_type": "execute_result"
    }
   ],
   "source": [
    "A"
   ]
  },
  {
   "cell_type": "code",
   "execution_count": 4,
   "metadata": {},
   "outputs": [],
   "source": [
    "values, vectors = LA.eig(A)"
   ]
  },
  {
   "cell_type": "markdown",
   "metadata": {},
   "source": [
    "Sopestvene vrednosti:"
   ]
  },
  {
   "cell_type": "code",
   "execution_count": 5,
   "metadata": {},
   "outputs": [
    {
     "data": {
      "text/plain": [
       "array([0.3, 1. ])"
      ]
     },
     "execution_count": 5,
     "metadata": {},
     "output_type": "execute_result"
    }
   ],
   "source": [
    "values"
   ]
  },
  {
   "cell_type": "markdown",
   "metadata": {},
   "source": [
    "Sopstveni vektori:"
   ]
  },
  {
   "cell_type": "code",
   "execution_count": 6,
   "metadata": {},
   "outputs": [
    {
     "data": {
      "text/plain": [
       "array([[-0.92847669, -0.70710678],\n",
       "       [ 0.37139068, -0.70710678]])"
      ]
     },
     "execution_count": 6,
     "metadata": {},
     "output_type": "execute_result"
    }
   ],
   "source": [
    "vectors"
   ]
  },
  {
   "cell_type": "markdown",
   "metadata": {},
   "source": [
    "Vektori koji se dobijaju na ovaj način su normalizovani:"
   ]
  },
  {
   "cell_type": "code",
   "execution_count": 7,
   "metadata": {},
   "outputs": [
    {
     "data": {
      "text/plain": [
       "1.0"
      ]
     },
     "execution_count": 7,
     "metadata": {},
     "output_type": "execute_result"
    }
   ],
   "source": [
    "LA.norm(vectors[:, 0])"
   ]
  },
  {
   "cell_type": "code",
   "execution_count": 8,
   "metadata": {},
   "outputs": [
    {
     "data": {
      "text/plain": [
       "0.9999999999999999"
      ]
     },
     "execution_count": 8,
     "metadata": {},
     "output_type": "execute_result"
    }
   ],
   "source": [
    "LA.norm(vectors[:, 1])"
   ]
  },
  {
   "cell_type": "code",
   "execution_count": null,
   "metadata": {},
   "outputs": [],
   "source": []
  },
  {
   "cell_type": "markdown",
   "metadata": {},
   "source": [
    "Nadalje će biti prikazani neki algoritmi koji se mogu iskoristit za određivanje sopstvenih vektora i vrednosti zadate matrice."
   ]
  },
  {
   "cell_type": "code",
   "execution_count": null,
   "metadata": {},
   "outputs": [],
   "source": []
  },
  {
   "cell_type": "markdown",
   "metadata": {},
   "source": [
    "### Metoda stepenovanja"
   ]
  },
  {
   "cell_type": "markdown",
   "metadata": {},
   "source": [
    "Neka je $b_{0}$ proizvoljno generisan vektor koji ne sadrži nule i neka je $$b_{k+1}=\\frac {Ab_{k}}{||Ab_{k}||}.$$ Dakle, u svakoj iteraciji se vektor $b_{k}$ množi matricom $A$ i normalizuje. Pretpostavimo da sopstvenim vrednostima matrice $A$, za koje važi $|\\lambda_1|>|\\lambda_2|>\\dots>|\\lambda_n|$, odgovaraju sopstveni vektori $x_1, x_2, \\dots, x_n$. Tada vektori $b_{k}$ kroz iteracije čine niz koji konvergira ka $x_1$, odnosno sopstvenom vektoru koji odgovara sopstvenoj vrednosti čija je apsolutna vrednost najveća. Opisani algoritam se naziva `metoda stepenovanja` i pomoću njega se može pronaći najveća po apsolutnoj vrednosti sopstvena vrednost i njoj odgovarajući sopstveni vektor. Za nalaženje sopstvene vrednosti $\\lambda_1$, ako je poznat vektor $x_1$, dovoljno je primetiti da iz $Ax_1 = \\lambda_1x_1$ sledi $x_1^TAx_1 = x_1^T\\lambda_1x_1$, odakle je $$\\lambda_1 = \\frac{x_1^TAx_1}{x_1^Tx_1}.$$ I u brojiocu i u imeniocu proizvod matrice i vektora je skalar."
   ]
  },
  {
   "cell_type": "code",
   "execution_count": 9,
   "metadata": {},
   "outputs": [],
   "source": [
    "def power_method(A, number_of_iterations):\n",
    "    \n",
    "    N = A.shape[0]\n",
    "    \n",
    "    b = np.random.rand(N)\n",
    "    \n",
    "    for _ in range(number_of_iterations):\n",
    "        b = np.dot(A, b) / np.linalg.norm(np.dot(A, b))\n",
    "        \n",
    "    \n",
    "    b_lambda = b.T.dot(A).dot(b)/(b.T.dot(b))\n",
    "        \n",
    "    return b_lambda, b"
   ]
  },
  {
   "cell_type": "code",
   "execution_count": 10,
   "metadata": {},
   "outputs": [
    {
     "data": {
      "text/plain": [
       "(1.0, array([0.70710678, 0.70710678]))"
      ]
     },
     "execution_count": 10,
     "metadata": {},
     "output_type": "execute_result"
    }
   ],
   "source": [
    "power_method(A, 50)"
   ]
  },
  {
   "cell_type": "code",
   "execution_count": null,
   "metadata": {},
   "outputs": [],
   "source": []
  },
  {
   "cell_type": "markdown",
   "metadata": {},
   "source": [
    "### Metoda iscrpljivanja"
   ]
  },
  {
   "cell_type": "markdown",
   "metadata": {},
   "source": [
    "Pretpostavimo da sopstvenim vrednostima matrice $A$, za koje važi $|\\lambda_1|>|\\lambda_2|>\\dots>|\\lambda_n|$, odgovaraju sopstveni vektori $x_1, x_2, \\dots, x_n$. Neka su $y_1, y_2, \\dots, y_n$ sopstveni vektori koji odgovaraju matrici $A^{T}$. Neka je $A_1 = A$ i $$A_{i+1} = A_i - \\lambda_ix_iy_i^T.$$ Odgovarajuće sopstvene vrednosti i sopstveni vektori se u svakoj iteraciji dobijaju redom primenom metoda stepenovanja na matrice $A_i$ i $A_i^T$. Time se, kao izlaz iz algoritma, mogu generisati sve sopstvene vrednosti i svi sopstveni vektori polazne matrice. Opisani metod se naziva `metod iscrpljivanja`."
   ]
  },
  {
   "cell_type": "code",
   "execution_count": 11,
   "metadata": {},
   "outputs": [],
   "source": [
    "def exhausting_method(A, number_of_vectors, number_of_iterations):\n",
    "    \n",
    "    # nizovi sopstvenih vrednosti i vektora\n",
    "    values = []\n",
    "    vectors = []\n",
    "    \n",
    "    N = A.shape[0]\n",
    "    \n",
    "    for i in range(N):\n",
    "        x_lambda, x = power_method(A, number_of_iterations)\n",
    "        y_lambda, y = power_method(A.T, number_of_iterations)\n",
    "        \n",
    "        values.append(x_lambda)\n",
    "        vectors.append(x)\n",
    "        \n",
    "        x = x.reshape(N, 1)\n",
    "        y = y.reshape(N, 1)\n",
    "        \n",
    "        A = A - x_lambda * np.dot(x, y.T)\n",
    "        \n",
    "    return values, vectors"
   ]
  },
  {
   "cell_type": "code",
   "execution_count": 12,
   "metadata": {},
   "outputs": [],
   "source": [
    "values, vectors = exhausting_method(A, 2, 50)"
   ]
  },
  {
   "cell_type": "code",
   "execution_count": 13,
   "metadata": {},
   "outputs": [
    {
     "data": {
      "text/plain": [
       "[1.0, 0.3]"
      ]
     },
     "execution_count": 13,
     "metadata": {},
     "output_type": "execute_result"
    }
   ],
   "source": [
    "values"
   ]
  },
  {
   "cell_type": "code",
   "execution_count": 14,
   "metadata": {},
   "outputs": [
    {
     "data": {
      "text/plain": [
       "[array([0.70710678, 0.70710678]), array([-0.92847669,  0.37139068])]"
      ]
     },
     "execution_count": 14,
     "metadata": {},
     "output_type": "execute_result"
    }
   ],
   "source": [
    "vectors"
   ]
  },
  {
   "cell_type": "markdown",
   "metadata": {},
   "source": [
    "Napomenimo još da obe opisane metode nalaze aproksimaciju rešenja. Greška se može smanjiti dovoljnim brojem iteracija, mada je tada algoritam nešto sporiji. Nekada je konvergencija ka rešenju sporija, a nekada brža. "
   ]
  },
  {
   "cell_type": "code",
   "execution_count": null,
   "metadata": {},
   "outputs": [],
   "source": []
  }
 ],
 "metadata": {
  "kernelspec": {
   "display_name": "Python 3",
   "language": "python",
   "name": "python3"
  },
  "language_info": {
   "codemirror_mode": {
    "name": "ipython",
    "version": 3
   },
   "file_extension": ".py",
   "mimetype": "text/x-python",
   "name": "python",
   "nbconvert_exporter": "python",
   "pygments_lexer": "ipython3",
   "version": "3.7.6"
  }
 },
 "nbformat": 4,
 "nbformat_minor": 2
}
