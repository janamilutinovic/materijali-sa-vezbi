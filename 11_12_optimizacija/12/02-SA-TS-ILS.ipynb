{
 "cells": [
  {
   "cell_type": "markdown",
   "metadata": {},
   "source": [
    "# Simulirano kaljenje, tabu pretraga i iterativna lokalna pretraga"
   ]
  },
  {
   "cell_type": "markdown",
   "metadata": {},
   "source": [
    "Ovde će biti prikazani još neki načini na koji može biti izbegnut problem zaglavljivanja u lokalnom minimumu kod osnovne verzije lokalne pretrage. Jedan od pomenutih načina je i metoda promenljivih okolina u kojoj se uvodi više okolina pa se smatra da lokalni minimum jedne okoline ne predstavlja nužno i lokalni minimum neke druge okoline. Ideje koje će ovde biti prezentovane se zasnivaju na kriterijumu prihvatanja i nekih rešenja koja nisu uvek sa manjom funkcijom cilja, uvođenjem zabranjenih poteza ka rešenjima koja nisu obećavajuća, ponovno pokretanje lokalne pretrage pri zaglavljivanju u lokalnom minimumu, itd. Na tome se zasnivaju i sve tri heuristike koje će biti pomenute u nastavku. Sve one predstavljaju uopštenje lokalne pretrage. "
   ]
  },
  {
   "cell_type": "markdown",
   "metadata": {},
   "source": [
    "### Simulirano kaljenje"
   ]
  },
  {
   "cell_type": "markdown",
   "metadata": {},
   "source": [
    "Kod simuliranog kaljenja se na početku proizvoljno ili na neki drugi način generiše početno rešenje i izračuna vrednost njegove funkcije cilja. Vrednost najboljeg rešenja se najpre inicijalizuje na vrednost početnog. Zatim se algoritam ponavlja kroz nekoliko iteracija. U svakom koraku se razmatra rešenje u okolini trenutnog. Ukoliko je vrednost njegove funkcije cilja bolja od vrednosti funkcije cilja trenutnog rešenja, ažurira se trenutno rešenje. Ukoliko vrednost funkcije cilja novog rešenja nije bolja od vrednosti funkcije cilja trenutnog, upoređuju se\n",
    "vrednosti unapred definisane funkcije $p$ i proizvoljno izabrane vrednosti $q$ iz intervala $(0, 1)$. Ako je $p > q$ trenutno rešenje se ažurira novoizabranim. Takođe se, po potrebi, ažurira i vrednost najboljeg dostignutog rešenja. Algoritam se ponavlja dok nije ispunjen kriterijum zaustavljanja. Kriterijum zaustavljanja može biti, na primer, dostignut maksimalan broj iteracija, dostignut maksimalan broj ponavljanja najboljeg rešenja, ukupno vreme izvršavanja, itd.\n",
    "\n",
    "Pod određenim uslovima, kod simuliranog kaljenja se može prihvatiti novo rešenje, čak i ako njegova vrednost nije bolja od vrednosti trenutnog. Na taj način se smanjuje verovatnoća konvergencije algoritma ka lokalnom optimumu koje nije i globalno. Funkcija $p$ je opadajuća na $(0, 1)$ i njena vrednost se može pogodno odabrati, u zavisnosti od prirode problema, na primer, $p = \\ln 2/ \\ln(1 + i)$, $p = 1/\\sqrt{i}$ ili $p =\\exp(−(f(s') − f(s))/c)$ gde je $i$ trenutni broj iteracija, a $c$ pogodno izabran parametar). Vrednost $q$ se bira\n",
    "proizvoljno iz intervala $(0, 1)$.\n",
    "\n",
    "Algoritam simuliranog kaljenja je zasnovan na procesu kaljenja čelika, čiji je cilj oplemenjivanje metala tako da on postane čvršći. Prvi korak u kaljenju čelika je zagrevanje do određene temperature, a zatim, nakon kratkog zadržavanja na toj temperaturi, počinje postepeno hladenje. Pritom treba voditi računa o brzini hlađenja, jer brzo hladenje može da uzrokuje pucanje metala.\n",
    "\n",
    "Simulirano kaljenje se može prikazati sledećim pseudokodom:\n",
    "\n",
    "* Generisati početno rešenje $s$\n",
    "* Inicijalizovati vrednost najboljeg rešenja $f^* = f(s)$\n",
    "* Dok nije ispunjen kriterijum zaustavljanja, ponavljati sledeće korake:\n",
    "    * Izabrati proizvoljno rešenje $s'$ u okolini $s$\n",
    "    * Ako je $f(s')<f(s)$, onda $s=s'$\n",
    "    * Inače, ako je $f(s')\\ge f(s)$, onda:\n",
    "        * Ažurirati vrednost funkcije $p$\n",
    "        * Izabrati proizvoljno $q \\in (0, 1)$\n",
    "        * Ako je $p>q$, onda $s=s'$\n",
    "    * Ako je $f(s')<f^*$, onda $f^* = f(s')$\n",
    "* Ispisati vrednost rešenja $f^*$"
   ]
  },
  {
   "cell_type": "code",
   "execution_count": null,
   "metadata": {},
   "outputs": [],
   "source": []
  },
  {
   "cell_type": "code",
   "execution_count": null,
   "metadata": {},
   "outputs": [],
   "source": []
  },
  {
   "cell_type": "markdown",
   "metadata": {},
   "source": [
    "### Tabu pretraga "
   ]
  },
  {
   "cell_type": "markdown",
   "metadata": {},
   "source": [
    "Kod tabu pretrage se, za razliku od lokalne pretrage, uvodi skup zabranjenih poteza $T$, koji sužava izbor novog rešenja. U zavisnosti od toga kako je algoritam prilagođen problemu, u svakoj iteraciji se skup $T$ može ažurirati na različite načine.\n",
    "\n",
    "Na početku algoritma se proizvoljno ili na neki drugi način generiše početno rešenje i izračunava vrednost njegove funkcije cilja. Vrednost najboljeg rešenja se najpre inicijalizuje na vrednost početnog. Zatim se algoritam ponavlja kroz nekoliko iteracija. U svakom koraku se razmatra rešenje u okolini trenutnog. Ukoliko je vrednost njegove funkcije cilja bolja od vrednosti funkcije cilja trenutnog rešenja, ažurira se trenutno rešenje. U opštem slučaju se kod tabu pretrage može promeniti kriterijum zaustavljanja, pri čemu se ne moraju uvek prihvatati samo bolja rešenja. Po potrebi se ažurira i vrednost najboljeg dostignutog rešenja. Algoritam se ponavlja dok nije ispunjen kriterijum zaustavljanja. Kriterijum zaustavljanja može biti, na primer, dostignut maksimalan broj iteracija, dostignut maksimalan broj ponavljanja najboljeg rešenja, ukupno vreme izvršavanja, itd.\n",
    "\n",
    "Memorija kod tabu pretrage se vezuje za dužinu čuvanja rešenja u skupu $T$. U opštem slučaju, ona može biti kratkoročna, srednjoročna i dugoročna. Na primer, kratkoročna memorija se može odnositi na sva rešenja koja nisu poboljšavalja trenutno najbolje rešenje u prethodnih nekoliko iteracija. Dugoročna memorija se može odnositi na rešenja koja su se od početka algoritma, prema nekom definisanom kriterijumu, pokazala kao loš izbor.\n",
    "\n",
    "Tabu pretraga se može prikazati sledećim pseudokodom:\n",
    "\n",
    "* Generisati početno rešenje $s$\n",
    "* Inicijalizovati vrednost najboljeg rešenja $f^* = f(s)$\n",
    "* Inicijalizovati skup zabranjenih poteza $T = \\emptyset$\n",
    "* Dok nije ispunjen kriterijum zaustavljanja, ponavljati sledeće korake:\n",
    "    * Izabrati proizvoljno rešenje $s'$ u okolini $s$, imajući u vidu da ne treba birati nijedno rešenje iz skupa $T$\n",
    "    * Ako je $f(s')<f(s)$ ili je ispunjen drugačiji, posebno definisani kriterijum prihvatanja, onda $s=s'$\n",
    "    * Ako je $f(s')<f^*$, onda $f^* = f(s')$\n",
    "    * Ažurirati skup $T$\n",
    "* Ispisati vrednost rešenja $f^*$"
   ]
  },
  {
   "cell_type": "code",
   "execution_count": null,
   "metadata": {},
   "outputs": [],
   "source": []
  },
  {
   "cell_type": "code",
   "execution_count": null,
   "metadata": {},
   "outputs": [],
   "source": []
  },
  {
   "cell_type": "markdown",
   "metadata": {},
   "source": [
    "### Iterativna lokalna pretraga"
   ]
  },
  {
   "cell_type": "markdown",
   "metadata": {},
   "source": [
    "Iterativna lokalna pretraga pokušava da izbegne zaglavljivanje u lokalnom minimumu tako što u više iteracija primenjuje lokalnu pretragu na novo generisano početno rešenje. Ukoliko se novo rešenje generiše proizvoljno, radi se o uzastopnom ponavljanju lokalne pretrage, a ako se rešenje generiše tako da se ne razlikuje dovoljno od trenutnog lokalnog minimuma, postoji velika verovatnoća da će se ponovo zaglaviti u istom lokalnom minimumu. Zbog toga je novo početno rešenje potrebno pažljivo odabrati na osnovu trenutnog lokalnog minimuma, tako da se dovoljno razlikuje, na osnovu pogodno odabranog kriterijuma i imajući u vidu prethodne iteracije. Na primer, za prost lokacijski problem, novo početno rešenje se može dobiti menjanjem stanja određenog broja resursa. \n",
    "\n",
    "Algoritam iterativne lokalne pretrage se može prikazati sledećim pseudokodom:\n",
    "\n",
    "* Generisati početno rešenje $s$\n",
    "* $s^*$ je rešenje dobijeno primenom lokalne pretrage na $s$\n",
    "* Postaviti vrednost najboljeg rešenja $f^* = f(s^*)$\n",
    "* Dok nije ispunjen kriterijum zaustavljanja, ponavljati sledeće korake:\n",
    "    * $s$ je rešenje koje se dobija perturbacijom rešenja $s^*$\n",
    "    * $s^{**}$ je rešenje dobijeno primenom lokalne pretrage na $s^*$\n",
    "    * Ako je $f(s^{**})<f^*$, onda $f^* = f(s^{**})$\n",
    "    * Ako je $s^{**}$ pogodnije od $s^*$ kao novo početno rešenje, onda $s^* = s^{**}$\n",
    "* Ispisati vrednost rešenja $f^*$"
   ]
  }
 ],
 "metadata": {
  "kernelspec": {
   "display_name": "Python 3",
   "language": "python",
   "name": "python3"
  },
  "language_info": {
   "codemirror_mode": {
    "name": "ipython",
    "version": 3
   },
   "file_extension": ".py",
   "mimetype": "text/x-python",
   "name": "python",
   "nbconvert_exporter": "python",
   "pygments_lexer": "ipython3",
   "version": "3.7.6"
  }
 },
 "nbformat": 4,
 "nbformat_minor": 2
}
