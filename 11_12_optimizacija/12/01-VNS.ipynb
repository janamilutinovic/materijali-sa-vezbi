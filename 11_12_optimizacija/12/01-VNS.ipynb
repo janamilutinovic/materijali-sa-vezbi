{
 "cells": [
  {
   "cell_type": "markdown",
   "metadata": {},
   "source": [
    "# Metoda promenljivih okolina"
   ]
  },
  {
   "cell_type": "markdown",
   "metadata": {},
   "source": [
    "Metoda promenljivih okolina (eng. *variable neighbourhood search*, skraćeno VNS) je uopštenje lokalne pretrage u kojoj su definisane okoline $U_l(x)$, $1 \\le l \\le l_{max}$, po kojima će se sistematski vršiti pretraživanje. Metoda promenljivih okolina se bazira na sledećim principima:\n",
    "\n",
    "* Lokalni minimum za jedan tip okoline ne mora nužno i da bude lokalni minimum za drugi tip okoline.\n",
    "* Globalni minimum predstavlja lokalni minimum za sve tipove okolina.\n",
    "* Za mnoge probleme u praksi, lokalni minimumi više tipova okolina su relativno blizu jedan drugog."
   ]
  },
  {
   "cell_type": "markdown",
   "metadata": {},
   "source": [
    "<img src='assets/VNS.png' style='width:600px;'>"
   ]
  },
  {
   "cell_type": "markdown",
   "metadata": {},
   "source": [
    "U literaturi postoji nekoliko varijanti osnovnog algoritma među kojima se najčešće sreću redukovana, osnovna i uopštena metoda promenljivih okolina. U svim slučajevima se, ukoliko se ne pronađe bolje rešenje, prelazi u narednu okolinu. U suprotnom, ukoliko se pronađe bolje rešenje, algoritam se resetuje na prvi razmatrani tip okoline."
   ]
  },
  {
   "cell_type": "markdown",
   "metadata": {},
   "source": [
    "Kod redukovane metode promenljivih okolina (eng. *reduced variable neighbourhood search*, skraćeno RVNS) izostavljena je lokalna pretraga i umesto lokalnog minimuma bira se proizvoljno rešenje iz odgovarajuće okoline od trenutnog u cilju traženja poboljšanja. Kod osnovne metode promenljivih okolina (eng. *basic variable neighbourhood search*, skraćeno BVNS) se slučajno bira početno rešenje $x$ u tekućoj okolini, na koje se zatim primenjuje neki tip lokalne pretrage. Kod uopštene metode promenljivih okolina (eng. *general variable neighbourhood search*, skraćeno GVNS) se koriste dva nivoa lokalne pretrage, pri čemu se tada mogu upotrebiti dva tipa okolina, jedan za spoljašnju, a drugi za unutrašnju varijantu lokalne pretrage."
   ]
  },
  {
   "cell_type": "markdown",
   "metadata": {},
   "source": [
    "### Pseudokod RVNS se može prikazati na sledeći način:"
   ]
  },
  {
   "cell_type": "markdown",
   "metadata": {},
   "source": [
    "* Odabrati tipove okolina $U_l(x)$, $1 \\le l \\le l_{max}$\n",
    "* Generisati početno rešenje $x$ i postaviti vrednost najboljeg rešenja $f^∗ = f(x)$\n",
    "* Dok nije zadovoljen kriterijum zaustavljanja, ponavljati sledeće korake:\n",
    "    * $l = 1$\n",
    "    * Dok je $l \\le l_{max}$, ponavljati sledeće korake:\n",
    "        * Izabrati proizvoljno rešenje $x'$ u okolini $U_l(x)$\n",
    "        * Ako rešenje $x'$ ima manju vrednost funkcije cilja od rešenja $x$, onda dodeliti $x = x'$ i $l = 1$, a inače $l = l + 1$\n",
    "    * Po potrebi, ažurirati vrednost $f^*$\n",
    "* Ispisati vrednost $f^*$"
   ]
  },
  {
   "cell_type": "markdown",
   "metadata": {},
   "source": [
    "### Pseudokod BVNS se može prikazati na sledeći način:"
   ]
  },
  {
   "cell_type": "markdown",
   "metadata": {},
   "source": [
    "* Odabrati tipove okolina $U_l(x)$, $1 \\le l \\le l_{max}$\n",
    "* Generisati početno rešenje $x$ i postaviti vrednost najboljeg rešenja $f^∗ = f(x)$\n",
    "* Dok nije zadovoljen kriterijum zaustavljanja, ponavljati sledeće korake:\n",
    "    * $l = 1$\n",
    "    * Dok je $l \\le l_{max}$, ponavljati sledeće korake:\n",
    "        * Izabrati proizvoljno rešenje $x'$ u okolini $U_l(x)$\n",
    "        * Primenom nekog tipa lokalne pretrage na početno rešenje $x'$ naći rešenje $x''$ sa najmanjom vrednošću funkcije cilja\n",
    "        * Ako rešenje $x''$ ima manju vrednost funkcije cilja od rešenja $x$, onda dodeliti $x = x''$ i $l = 1$, a inače $l = l + 1$\n",
    "    * Po potrebi, ažurirati vrednost $f^*$\n",
    "* Ispisati vrednost $f^*$"
   ]
  },
  {
   "cell_type": "markdown",
   "metadata": {},
   "source": [
    "### Pseudokod GVNS se može prikazati na sledeći način:"
   ]
  },
  {
   "cell_type": "markdown",
   "metadata": {},
   "source": [
    "* Odabrati tipove okolina $U_l(x)$, $1 \\le l \\le l_{max}$ za fazu razmrdavanja\n",
    "* Odabrati tipove okolina $U'_l(x)$, $1 \\le l \\le l'_{max}$ za fazu lokalne pretrage\n",
    "* Generisati početno rešenje $x$, poboljšati ga korišćenjem RVNS i postaviti vrednost najboljeg rešenja $f^∗ = f(x)$\n",
    "* Dok nije zadovoljen kriterijum zaustavljanja, ponavljati sledeće korake:\n",
    "    * $l = 1$\n",
    "    * Dok je $l \\le l_{max}$, ponavljati sledeće korake:\n",
    "        * Izabrati proizvoljno rešenje $x'$ u okolini $U_l(x)$\n",
    "        * $l' = 1$\n",
    "        * Dok je $l' \\le l'_{max}$, ponavljati sledeće korake:\n",
    "            * Naći rešenje $x''$ u okolini $U'_{l'}(x')$ sa najmanjom vrednošću funkcije cilja\n",
    "            * Ako rešenje $x''$ ima manju vrednost funkcije cilja od rešenja $x'$, onda dodeliti $x' = x''$ i $l = 1$, a inače $l = l + 1$\n",
    "        * Ako rešenje $x''$ ima manju vrednost funkcije cilja od rešenja $x$, onda dodeliti $x = x''$ i $l = 1$, a inače $l = l + 1$\n",
    "    * Po potrebi, ažurirati vrednost $f^*$\n",
    "* Ispisati vrednost $f^*$"
   ]
  },
  {
   "cell_type": "markdown",
   "metadata": {},
   "source": [
    "## Primena RVNS na UFLP"
   ]
  },
  {
   "cell_type": "markdown",
   "metadata": {},
   "source": [
    "Podsetimo se, ulazni podaci za prost lokacijski problem su skup korisnika $I$, skup potencijalnih lokacija za resurse $J$, cene dodeljivanja korisnika resursima $c_{ij}$ i cene uspostavljanja resursa $f_j$. Potrebno je minimizovati ukupnu cenu dodeljivanja korisnika resursima i cena upostavljanja resursa, tako da svaki korisnik bude dodeljen tačno jednom resursu. Pritom neki resursi mogu biti neiskorišćeni, a neki iskorišćeni od strane jednog ili više korisnika."
   ]
  },
  {
   "cell_type": "markdown",
   "metadata": {},
   "source": [
    "Implementacija RVNS za UFLP se neznatno razlikuje od implementacije lokalne pretrage za UFLP, s tim što su izmenjene ili dodate sledeće funkcije:\n",
    "\n",
    "* `restore` $-$ kod prethodne verzije ove funkcije vršilo se invertovanje samo jednog elementa, a kako sada može da se desi da je više elemenata invertovano, vrši se restauracija svih onih čiji su indeksi u nizu `inverted`.\n",
    "\n",
    "* `get_neighbor` $-$ ovde se, u zavisnosti od toga koja okolina je u pitanju, vrši invertovanje nekoliko elemenata. Okolina $U_k$ rešenja $x$ podrazumeva da je $k$ resursa invertovano. \n",
    "\n",
    "* `reduced_VNS` $-$ ovde je, u duhu samog algoritma, implementirana RVNS (analogno funkciji lokalne pretrage), koja će se kasnije pozvati u glavnom programu."
   ]
  },
  {
   "cell_type": "code",
   "execution_count": 1,
   "metadata": {},
   "outputs": [],
   "source": [
    "import random"
   ]
  },
  {
   "cell_type": "markdown",
   "metadata": {},
   "source": [
    "Funkcija `read_input` učitava ulazne podatke. Pretpostavka je da će se u prvom redu fajla sa podacima naći  broj korisnika `number_of_users` i broj resursa `number_of_resources`, u narednih `number_of_users` redova `number_of_resources` brojeva koji zajedno predstavljaju matricu cena dodeljivanja korisnika resursima koju ćemo zvati `cost`. Niz cena uspostavljanja resursa `fixed_cost` će se učitavati iz poslednjeg reda fajla sa podacima."
   ]
  },
  {
   "cell_type": "code",
   "execution_count": 2,
   "metadata": {},
   "outputs": [],
   "source": [
    "def read_input(filename):\n",
    "    input = open(filename, 'r')\n",
    "    number_of_users, number_of_resources = [int(i) for i in input.readline().split()]\n",
    "    cost = [[int(j) for j in input.readline().split()] for i in range(number_of_users)] \n",
    "    fixed_cost = [int(j) for j in input.readline().split()]\n",
    "    return number_of_users, number_of_resources, cost, fixed_cost"
   ]
  },
  {
   "cell_type": "code",
   "execution_count": 3,
   "metadata": {},
   "outputs": [],
   "source": [
    "number_of_users, number_of_resources, cost, fixed_cost = read_input('data/uflp_input.txt')"
   ]
  },
  {
   "cell_type": "code",
   "execution_count": 4,
   "metadata": {},
   "outputs": [
    {
     "data": {
      "text/plain": [
       "3"
      ]
     },
     "execution_count": 4,
     "metadata": {},
     "output_type": "execute_result"
    }
   ],
   "source": [
    "number_of_users"
   ]
  },
  {
   "cell_type": "code",
   "execution_count": 5,
   "metadata": {},
   "outputs": [
    {
     "data": {
      "text/plain": [
       "3"
      ]
     },
     "execution_count": 5,
     "metadata": {},
     "output_type": "execute_result"
    }
   ],
   "source": [
    "number_of_resources"
   ]
  },
  {
   "cell_type": "code",
   "execution_count": 6,
   "metadata": {},
   "outputs": [
    {
     "data": {
      "text/plain": [
       "[[1, 12, 3], [2, 7, 41], [19, 21, 7]]"
      ]
     },
     "execution_count": 6,
     "metadata": {},
     "output_type": "execute_result"
    }
   ],
   "source": [
    "cost"
   ]
  },
  {
   "cell_type": "code",
   "execution_count": 7,
   "metadata": {},
   "outputs": [
    {
     "data": {
      "text/plain": [
       "[12, 11, 13]"
      ]
     },
     "execution_count": 7,
     "metadata": {},
     "output_type": "execute_result"
    }
   ],
   "source": [
    "fixed_cost"
   ]
  },
  {
   "cell_type": "code",
   "execution_count": null,
   "metadata": {},
   "outputs": [],
   "source": []
  },
  {
   "cell_type": "markdown",
   "metadata": {},
   "source": [
    "Funkcijom `is_feasible` se proverava da li je rešenje dopustivo. Rešenje je predstavljeno nizom `solution` koje se sastoji od `number_of_resources` logičkih vrednosti gde vrednost `True` na $j$-tom mestu označava da je resurs uspostavljen, a `False` da nije. Rešenje je dopustivo ukoliko niz `solution` ima bar jednu vrednost `True`."
   ]
  },
  {
   "cell_type": "code",
   "execution_count": 8,
   "metadata": {},
   "outputs": [],
   "source": [
    "def is_feasible(number_of_resources, solution):\n",
    "    for j in range(number_of_resources):\n",
    "        if solution[j]:\n",
    "            return True\n",
    "    return False"
   ]
  },
  {
   "cell_type": "markdown",
   "metadata": {},
   "source": [
    "Funkcijom `initialize` se generiše proizvoljno početno rešenje. Vrednost `True` će biti izabrana sa verovatnoćom `probability` koja će kasnije biti postavljena na 0.25 budući da se najčešće u optimalnom rešenju nalazi osetno manje uspostavljenih resursa nego neuspostavljenih."
   ]
  },
  {
   "cell_type": "code",
   "execution_count": 9,
   "metadata": {},
   "outputs": [],
   "source": [
    "def initialize(number_of_resources, probability):\n",
    "    solution = []\n",
    "    \n",
    "    # u niz se dodaje True ili False vrednost sa verovatnocom probability\n",
    "    for j in range(number_of_resources):\n",
    "        solution.append(random.random() < probability)\n",
    "        \n",
    "    # ukoliko u nizu nema ni jedne True vrednosti, na proizvoljnu poziciju se upisuje vrednost True\n",
    "    if not is_feasible(number_of_resources, solution):\n",
    "        solution[random.randrange(number_of_resources)] = True\n",
    "        \n",
    "    return solution"
   ]
  },
  {
   "cell_type": "code",
   "execution_count": null,
   "metadata": {},
   "outputs": [],
   "source": []
  },
  {
   "cell_type": "markdown",
   "metadata": {},
   "source": [
    "Funkcijom `solution_value` određuje se vrednost trenutnog rešenja. Za svakog korisnika $i$ se bira resurs $j$ za koji je cena dodeljivanja najmanja. Zatim se taj resurs označava kao zauzet. O zauzetosti resursa se vodi računa u nizu `used` čije su vrednosti na početku postavljene na `False`. Na kraju se i sve vrednosti cena uspostavljanja zauzetih resursa dodaju na povratnu vrednost funkcije. Time je u njoj sadržana ukupna cena dodeljivanja i uspostavljanja za dato fiksno rešenje. Poslednje, niz `solution` se ažurira na osnovu vrednosti niza `used` budući da mogu da postoje u rešenju uspostavljeni resursi koji nisu iskorišćeni."
   ]
  },
  {
   "cell_type": "code",
   "execution_count": 10,
   "metadata": {},
   "outputs": [],
   "source": [
    "def solution_value(number_of_users, number_of_resources, cost, fixed_cost, solution):\n",
    "    value = 0.0\n",
    "    used = [False] * number_of_resources\n",
    "    \n",
    "    for i in range(number_of_users):\n",
    "        min_cost = float('inf')\n",
    "        j_used = -1\n",
    "        for j in range(number_of_resources):\n",
    "            if solution[j] and cost[i][j] < min_cost:\n",
    "                min_cost = cost[i][j]\n",
    "                j_used = j\n",
    "        value += min_cost\n",
    "        used[j_used] = True\n",
    "        \n",
    "    for j in range(number_of_resources):\n",
    "        if used[j]:\n",
    "            value += fixed_cost[j]\n",
    "            \n",
    "    solution = used\n",
    "    \n",
    "    return value"
   ]
  },
  {
   "cell_type": "code",
   "execution_count": null,
   "metadata": {},
   "outputs": [],
   "source": []
  },
  {
   "cell_type": "markdown",
   "metadata": {},
   "source": [
    "Funkcijom `restore` se invertuje vrednost svakog indeksa rešenja $j$ koji se nalazi u nizu `inverted`. Funkcija će kasnije biti iskorišćena u algoritmu pretrage za restauiranje vrednosti rešenja ukoliko nije pronađena bolja vrednost."
   ]
  },
  {
   "cell_type": "code",
   "execution_count": 11,
   "metadata": {},
   "outputs": [],
   "source": [
    "def restore(inverted, solution):\n",
    "    for j in inverted:\n",
    "        solution[j] = not solution[j]"
   ]
  },
  {
   "cell_type": "code",
   "execution_count": null,
   "metadata": {},
   "outputs": [],
   "source": []
  },
  {
   "cell_type": "markdown",
   "metadata": {},
   "source": [
    "Funkcijom `get_neighbor` se dobija k-okolina rešenja `solution`. To je, podsetimo se, vrednost u kojoj je `k` resursa invertovano. "
   ]
  },
  {
   "cell_type": "code",
   "execution_count": 12,
   "metadata": {},
   "outputs": [],
   "source": [
    "def get_neighbor(k, number_of_resources, solution):\n",
    "    inverted = []\n",
    "    \n",
    "    # invertuje se tacno k resursa\n",
    "    for i in range(k):\n",
    "        j = random.randrange(number_of_resources)\n",
    "        while j in inverted:\n",
    "            j = random.randrange(number_of_resources)\n",
    "        inverted.append(j)\n",
    "        solution[j] = not solution[j]\n",
    "        \n",
    "    # proverava se zadovoljivost ovako dobijenog resenja\n",
    "    if is_feasible(number_of_resources, solution):\n",
    "        return True, inverted\n",
    "    else:\n",
    "        restore(inverted, solution)\n",
    "        return False, inverted"
   ]
  },
  {
   "cell_type": "code",
   "execution_count": null,
   "metadata": {},
   "outputs": [],
   "source": []
  },
  {
   "cell_type": "markdown",
   "metadata": {},
   "source": [
    "Ova funkcija je implemetacija u uvodu opisanog VNS algoritma. "
   ]
  },
  {
   "cell_type": "code",
   "execution_count": 13,
   "metadata": {},
   "outputs": [],
   "source": [
    "def reduced_VNS(number_of_users, number_of_resources, cost, fixed_cost, solution, max_iters, k_max):\n",
    "    \n",
    "    curr_value = solution_value(number_of_users, number_of_resources, cost, fixed_cost, solution)\n",
    "    best_value = curr_value\n",
    "    best_solution = solution.copy()\n",
    "    \n",
    "    # sve dok se ne dostigne maksimalni broj iteracija algoritma\n",
    "    for i in range(max_iters):\n",
    "        \n",
    "        # ispituju se okoline resenja \n",
    "        k = 0\n",
    "        while k < k_max:\n",
    "            \n",
    "            # trazi se resenje u k-okolini koje je zadovoljivo\n",
    "            feasible, inverted = get_neighbor(k, number_of_resources, solution)\n",
    "            while not feasible:    \n",
    "                feasible, inverted = get_neighbor(k, number_of_resources, solution)\n",
    "                \n",
    "            # zatim se izracunava vrednost novog resenja\n",
    "            new_value = solution_value(number_of_users, number_of_resources, cost, fixed_cost, solution)\n",
    "            \n",
    "             # ukoliko je nova vrednost bolja od najbolje, vrsimo azuriranje\n",
    "            if new_value < best_value:\n",
    "                best_value = new_value\n",
    "                best_solution = solution.copy()\n",
    "            \n",
    "            # ukoliko je nova vrednost manja od tekuce vrsi se azuriranje vrednosti i ceo proces se resetuje \n",
    "            if new_value < curr_value:\n",
    "                curr_value = new_value\n",
    "                k = 0\n",
    "            else:\n",
    "                # u suprotnom se restaurira vrednost resenja i prelazi se na narednu okolinu \n",
    "                restore(inverted, solution)\n",
    "                k += 1\n",
    "                \n",
    "    return best_value, best_solution"
   ]
  },
  {
   "cell_type": "code",
   "execution_count": null,
   "metadata": {},
   "outputs": [],
   "source": []
  },
  {
   "cell_type": "code",
   "execution_count": 14,
   "metadata": {},
   "outputs": [],
   "source": [
    "number_of_users, number_of_resources, cost, fixed_cost = read_input('data/uflp_input.txt')\n",
    "solution = initialize(number_of_resources, 0.25)\n",
    "best_value, best_solution = reduced_VNS(number_of_users, number_of_resources, cost, fixed_cost, solution, 10, 3)"
   ]
  },
  {
   "cell_type": "code",
   "execution_count": 15,
   "metadata": {},
   "outputs": [
    {
     "name": "stdout",
     "output_type": "stream",
     "text": [
      "Najbolja vrednost:  34.0\n"
     ]
    }
   ],
   "source": [
    "print('Najbolja vrednost: ', best_value)"
   ]
  },
  {
   "cell_type": "code",
   "execution_count": 17,
   "metadata": {},
   "outputs": [
    {
     "name": "stdout",
     "output_type": "stream",
     "text": [
      "Najbolje resenje:  [True, False, False]\n"
     ]
    }
   ],
   "source": [
    "print('Najbolje resenje: ', best_solution)"
   ]
  },
  {
   "cell_type": "code",
   "execution_count": null,
   "metadata": {},
   "outputs": [],
   "source": []
  }
 ],
 "metadata": {
  "kernelspec": {
   "display_name": "Python 3",
   "language": "python",
   "name": "python3"
  },
  "language_info": {
   "codemirror_mode": {
    "name": "ipython",
    "version": 3
   },
   "file_extension": ".py",
   "mimetype": "text/x-python",
   "name": "python",
   "nbconvert_exporter": "python",
   "pygments_lexer": "ipython3",
   "version": "3.7.6"
  }
 },
 "nbformat": 4,
 "nbformat_minor": 2
}
