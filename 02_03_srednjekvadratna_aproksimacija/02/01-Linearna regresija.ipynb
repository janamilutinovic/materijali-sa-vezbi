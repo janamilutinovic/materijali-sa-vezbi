{
 "cells": [
  {
   "cell_type": "markdown",
   "metadata": {},
   "source": [
    "# Linearna regresija"
   ]
  },
  {
   "cell_type": "markdown",
   "metadata": {},
   "source": [
    "**Linearna regresija** predstavlja nalaženje linearne veze između nezavisne promenljive $x$ i zavisne promenljive $y$. Ukoliko je promenljiva $x$ skalar, radi se o prostoj linearnoj regresiji, a ako je promenljiva $x$ vektor, reč je o linearnoj regresiji za funkciju više promenljivih. U oba slučaja, pretpostavka je da je zavisna promenljiva $y$ skalar."
   ]
  },
  {
   "cell_type": "markdown",
   "metadata": {},
   "source": [
    "**Prosta linearna regresija** predstavlja nalaženje linearne veze između parova skalara $(x_i, y_i)$, $1 \\le i \\le n$. Veza je data linearnom funkcijom $f(x) = \\beta_0 + \\beta_1 x$, gde su $\\beta_0$ i $\\beta_1$ parametri koje treba odrediti. Ako je $X=[x_1, \\dots, x_n]$ i $Y=[y_1, \\dots, y_n]$, izraz se može zapisati u matričnom obliku kao $\\begin{bmatrix}1&X\\end{bmatrix} \\cdot \\begin{bmatrix}\\beta_0\\\\\\beta_1\\end{bmatrix} = Y$, gde je $\\begin{bmatrix}1&X\\end{bmatrix}$ matrica čija se prva kolona sastoji samo od jedinica, a druga kolona je vektor $X$."
   ]
  },
  {
   "cell_type": "markdown",
   "metadata": {},
   "source": [
    "**Linearna regresija za funkciju više promenljivih** predstavlja nalaženje linearne veze između parova vektora i skalara $(X_i, y_i)$, $1 \\le i \\le n$. Veza je data linearnom funkcijom $f(x_1,\\dots,x_m) = \\beta_0 + \\beta_1 x_1 + \\dots + \\beta_m x_m$, gde su $\\beta_0, \\dots, \\beta_1$ parametri koje treba odrediti. Izraz se zapisati u matričnom obliku kao $\\begin{bmatrix}1&X_1&\\cdots&X_m\\end{bmatrix} \\cdot \\begin{bmatrix}\\beta_0\\\\ \\vdots \\\\ \\beta_m\\end{bmatrix} = Y$, gde je $\\begin{bmatrix}1&X_1&\\cdots&X_m\\end{bmatrix}$ matrica čija se prva kolona sastoji samo od jedinica, a ostale kolone su redom vektori $X_1,\\dots,X_m$. "
   ]
  },
  {
   "cell_type": "markdown",
   "metadata": {},
   "source": [
    "Sistem jednačina $\\begin{bmatrix}1&X\\end{bmatrix} \\cdot \\begin{bmatrix}\\beta_0\\\\\\beta_1\\end{bmatrix} = Y$ kod proste linearne regresije, odnosno $\\begin{bmatrix}1&X_1&\\cdots&X_m\\end{bmatrix} \\cdot \\begin{bmatrix}\\beta_0\\\\ \\vdots \\\\ \\beta_m\\end{bmatrix} = Y$ kod linearne regresije za funkciju više promenljivih, se najčešće rešava **metodom najmanjih kvadrata**. Takav sistem u praksi obično ima više jednačina nego promenljivih i najčešće nema egzaktno rešenje."
   ]
  },
  {
   "cell_type": "markdown",
   "metadata": {},
   "source": [
    "Ako sistem napišemo u obliku $A\\beta = Y$, njegovo rešavanje predstavlja nalaženje onog vektora $\\beta$ za koji je vrednost izraza $||Y - \\beta A||_2^2$ najmanja. Ovde je sa $||a||_2 = \\sqrt{a_1^2 + a_2^2 + \\dots + a_n^2}$ označena 2-norma vektora $a = (a_1, a_2, \\dots, a_n)$. Rešenje je dato u obliku $\\beta=(A^{T}A)^{-1}A^{T}Y$, gde se matrica $(A^{T}A)^{-1}A^{T}$ se naziva pseudoinverz matrice $A$."
   ]
  },
  {
   "cell_type": "markdown",
   "metadata": {},
   "source": [
    "U slučaju proste linearne regresije, može se pokazati da je $$\\beta_1 = \\frac{\\sum_{i=1}^n (x_i-\\bar{x})(y_i-\\bar{y})}{\\sum_{i=1}^n (x_i-\\bar{x})^2}$$ i $\\beta_0 = \\bar{y} - \\beta_1 \\bar{x}$, gde je $\\bar{x} = \\frac{1}{n} \\sum_{i=1}^n x_i$ aritmetička sredina nezavisnih, a $\\bar{y} = \\frac{1}{n} \\sum_{i=1}^n y_i$ zavisnih promenljivih."
   ]
  },
  {
   "cell_type": "markdown",
   "metadata": {},
   "source": [
    "Funkcija `lstsq` iz `numpy.linalg` paketa određuje rešenje sistema jednačina metodom najmanjih kvadrata. Ukoliko postoji rešenje, vraća se njegova vrednost. Inače, vrši se minimizacija $\\min_{\\beta} ||Y - \\beta A||_2^2$. Prva dva argumenta su redom matrica $A$ i vektor $Y$, a treći argument se odnosi na odbacivanje malih singularnih vrednosti matrice. On će u narednim primerima biti postavljen na `None`. Povratne vrednosti su, redom, rešenje, ostatak, rang matrice i singularne vrednosti. "
   ]
  },
  {
   "cell_type": "code",
   "execution_count": 1,
   "metadata": {},
   "outputs": [],
   "source": [
    "import numpy as np\n",
    "from numpy import linalg as LA"
   ]
  },
  {
   "cell_type": "code",
   "execution_count": 2,
   "metadata": {},
   "outputs": [],
   "source": [
    "import pandas as pd"
   ]
  },
  {
   "cell_type": "code",
   "execution_count": 3,
   "metadata": {},
   "outputs": [],
   "source": [
    "import matplotlib.pyplot as plt"
   ]
  },
  {
   "cell_type": "markdown",
   "metadata": {},
   "source": [
    "**Primeri**"
   ]
  },
  {
   "cell_type": "markdown",
   "metadata": {},
   "source": [
    "**1.** Rešiti sledeći sistem jednačina dat u matričnom obliku: $$\\begin{bmatrix}2&0\\\\-1&1\\\\0&2\\end{bmatrix} \\begin{bmatrix}x_1\\\\x_2\\end{bmatrix} = \\begin{bmatrix}2\\\\0\\\\-2\\end{bmatrix}.$$"
   ]
  },
  {
   "cell_type": "markdown",
   "metadata": {},
   "source": [
    "**Rešenje.** Iz prve jednačine sledi da je $x_1 = 1$, iz poslednje $x_2 = -1$, a iz druge $x_1 = x_2$, što je kontradikcija, pa sistem nema rešenja. Rešavanje ovog sistema predstavlja nalaženje vrednosti $x_1$ i $x_2$ koja minimizuje ostatak u smislu metode najmanjih kvadrata. Zadatak će biti urađen na dva načina $-$ direktno preko formule i korišćenjem funkcije `lstsq`."
   ]
  },
  {
   "cell_type": "markdown",
   "metadata": {},
   "source": [
    "Prvi način:"
   ]
  },
  {
   "cell_type": "code",
   "execution_count": 4,
   "metadata": {},
   "outputs": [
    {
     "name": "stdout",
     "output_type": "stream",
     "text": [
      "Resenje: x1 = 0.6666666666666667 x2 = -0.6666666666666667\n",
      "Ostatak: 2.6666666666666665\n"
     ]
    }
   ],
   "source": [
    "A = np.array([[2,0], [-1,1], [0,2]])\n",
    "b = np.array([2, 0, -2]).T\n",
    "x = LA.inv(A.T.dot(A)).dot(A.T).dot(b)\n",
    "# rss je skracenica od residual square sum\n",
    "rss = LA.norm(b - A.dot(x)) ** 2\n",
    "print('Resenje: x1 =', x[0], 'x2 =', x[1])\n",
    "print('Ostatak:', rss)"
   ]
  },
  {
   "cell_type": "markdown",
   "metadata": {},
   "source": [
    "Drugi način:"
   ]
  },
  {
   "cell_type": "code",
   "execution_count": 5,
   "metadata": {},
   "outputs": [
    {
     "name": "stdout",
     "output_type": "stream",
     "text": [
      "Resenje: x1 = 0.6666666666666665 x2 = -0.6666666666666669\n",
      "Ostatak: 2.666666666666666\n"
     ]
    }
   ],
   "source": [
    "x, rss, _, _ = LA.lstsq(A, b, rcond=None)\n",
    "print('Resenje: x1 =', x[0], 'x2 =', x[1])\n",
    "# ostatak je dat inace u obliku niza\n",
    "print('Ostatak:', rss[0])"
   ]
  },
  {
   "cell_type": "code",
   "execution_count": null,
   "metadata": {},
   "outputs": [],
   "source": []
  },
  {
   "cell_type": "code",
   "execution_count": null,
   "metadata": {},
   "outputs": [],
   "source": []
  },
  {
   "cell_type": "markdown",
   "metadata": {},
   "source": [
    "**2.** Odrediti koeficijente $\\beta_0$ i $\\beta_1$ tako da funkcija $f(x) = \\beta_0 + \\beta_1 x$ u smislu metode najmanjih kvadrata najbolje aproksimira skup tačaka $(0, 1.2)$, $(0.5, 2.05)$, $(1, 2.9)$ i $(-0.5, 0.1)$ u ravni."
   ]
  },
  {
   "cell_type": "markdown",
   "metadata": {},
   "source": [
    "**Rešenje.** Neka su $(x_i, y_i)$, $1 \\le i \\le 4$ redom parovi tačaka. Nalaženje vrednosti koeficijenata predstavlja rešavanje sistema jednačina $A\\beta = y$, gde je $A = \\begin{bmatrix}1&x_1\\\\1&x_2\\\\1&x_3\\\\1&x_4\\end{bmatrix}$, $\\beta = \\begin{bmatrix}\\beta_0\\\\ \\beta_1\\end{bmatrix}$ i $y = \\begin{bmatrix}y_1\\\\y_2\\\\y_3\\\\y_4\\end{bmatrix}$. Zadatak će biti rešen na tri načina $-$ koristeći funkciju `lstsq`, nalaženjem pseudoinverza i eksplicitnim nalaženjem vrednosti koeficijenata prema obrascu za prostu linearnu regresiju."
   ]
  },
  {
   "cell_type": "markdown",
   "metadata": {},
   "source": [
    "Prvi način:"
   ]
  },
  {
   "cell_type": "code",
   "execution_count": 6,
   "metadata": {},
   "outputs": [
    {
     "data": {
      "text/plain": [
       "(1.100000000000001, 1.8500000000000005)"
      ]
     },
     "execution_count": 6,
     "metadata": {},
     "output_type": "execute_result"
    }
   ],
   "source": [
    "points = [[0, 1.2], [0.5, 2.05], [1, 2.9], [-0.5, 0.1]]\n",
    "x = np.array([p[0] for p in points])\n",
    "y = np.array([p[1] for p in points])\n",
    "n = x.shape[0]\n",
    "\n",
    "A = np.vstack((np.ones(n), x)).T\n",
    "beta0, beta1 = LA.lstsq(A, y.T, rcond=None)[0]\n",
    "(beta0, beta1)"
   ]
  },
  {
   "cell_type": "code",
   "execution_count": 7,
   "metadata": {},
   "outputs": [
    {
     "data": {
      "text/plain": [
       "(1.0999999999999999, 1.85)"
      ]
     },
     "execution_count": 7,
     "metadata": {},
     "output_type": "execute_result"
    }
   ],
   "source": [
    "beta0, beta1 = LA.inv(A.T.dot(A)).dot(A.T).dot(y.T)\n",
    "(beta0, beta1)"
   ]
  },
  {
   "cell_type": "code",
   "execution_count": 8,
   "metadata": {},
   "outputs": [
    {
     "data": {
      "text/plain": [
       "(1.1, 1.8499999999999996)"
      ]
     },
     "execution_count": 8,
     "metadata": {},
     "output_type": "execute_result"
    }
   ],
   "source": [
    "beta1 = np.sum((x - x.mean()) * (y - y.mean())) / np.sum((x - x.mean()) ** 2)\n",
    "beta0 = y.mean() - beta1 * x.mean()\n",
    "(beta0, beta1)"
   ]
  },
  {
   "cell_type": "code",
   "execution_count": null,
   "metadata": {},
   "outputs": [],
   "source": []
  },
  {
   "cell_type": "code",
   "execution_count": null,
   "metadata": {},
   "outputs": [],
   "source": []
  },
  {
   "cell_type": "markdown",
   "metadata": {},
   "source": [
    "**3.** Odrediti koeficijente $a$, $b$ i $c$ funkcije $f(x,y) = a + b x + c y$ tako da u smislu metode najmanjih kvadrata aproksimira skup tacaka $(3, 3, -1)$, $(5, 3, 1)$ i $(3, 4, 2)$ u prostoru."
   ]
  },
  {
   "cell_type": "markdown",
   "metadata": {},
   "source": [
    "**Rešenje.** Neka su $(x_i, y_i, z_i)$, $1 \\le i \\le 3$ redom parovi tačaka. Nalaženje vrednosti koeficijenata predstavlja rešavanje sistema jednačina $A\\beta = z$, gde je $A = \\begin{bmatrix}1&x_1&y_1\\\\1&x_2&y_2\\\\1&x_3&y_3\\end{bmatrix}$, $\\beta = \\begin{bmatrix}a\\\\ b\\\\ c\\end{bmatrix}$ i $z = \\begin{bmatrix}z_1\\\\z_2\\\\z_3\\end{bmatrix}$."
   ]
  },
  {
   "cell_type": "code",
   "execution_count": 9,
   "metadata": {},
   "outputs": [
    {
     "data": {
      "text/plain": [
       "(-12.999999999999982, 0.9999999999999982, 3.0)"
      ]
     },
     "execution_count": 9,
     "metadata": {},
     "output_type": "execute_result"
    }
   ],
   "source": [
    "points = [[3,3,-1], [5,3,1], [3,4,2]]\n",
    "x = np.array([p[0] for p in points])\n",
    "y = np.array([p[1] for p in points])\n",
    "z = np.array([p[2] for p in points])\n",
    "n = x.shape[0]\n",
    "\n",
    "A = np.vstack((np.ones(n), x, y)).T\n",
    "solution = LA.lstsq(A, z.T, rcond=None)\n",
    "a, b, c = solution[0]\n",
    "(a, b, c)"
   ]
  },
  {
   "cell_type": "code",
   "execution_count": null,
   "metadata": {},
   "outputs": [],
   "source": []
  },
  {
   "cell_type": "code",
   "execution_count": null,
   "metadata": {},
   "outputs": [],
   "source": []
  },
  {
   "cell_type": "markdown",
   "metadata": {},
   "source": [
    "**4.** Odrediti vrednosti koeficijenata $a$ i $b$ tako da funkcija $f(x) = a + b \\sin x$ u smislu metode najmanjih kvadrata aproksimira skup tacaka $(2, 2.6)$, $(-1.22, -1.7)$, $(8.32, 2.5)$ i $(4.23, -1.6)$ u ravni. Dati ocenu greske. Prikazati skup tačaka i nacrtati rezultujucu funkciju."
   ]
  },
  {
   "cell_type": "markdown",
   "metadata": {},
   "source": [
    "**Rešenje.** Neka su $(x_i, y_i)$, $1 \\le i \\le 4$ redom parovi tačaka. Nalaženje vrednosti koeficijenata predstavlja rešavanje sistema jednačina $A\\beta = y$, gde je $A = \\begin{bmatrix}1&\\sin x_1\\\\1&\\sin x_2\\\\1&\\sin x_3\\\\1&\\sin x_4\\end{bmatrix}$, $\\beta = \\begin{bmatrix}a\\\\ b\\end{bmatrix}$ i $y = \\begin{bmatrix}y_1\\\\y_2\\\\y_3\\\\y_4\\end{bmatrix}$."
   ]
  },
  {
   "cell_type": "code",
   "execution_count": 10,
   "metadata": {
    "scrolled": true
   },
   "outputs": [
    {
     "name": "stdout",
     "output_type": "stream",
     "text": [
      "a = 0.4629244420449795 b = 2.315513480740615\n",
      "rss =  0.0022605727583821017\n"
     ]
    },
    {
     "data": {
      "image/png": "[encoded data removed]",
      "text/plain": [
       "<Figure size 432x288 with 1 Axes>"
      ]
     },
     "metadata": {
      "needs_background": "light"
     },
     "output_type": "display_data"
    }
   ],
   "source": [
    "points = [[2, 2.6], [-1.22, -1.7], [8.32, 2.5], [4.23, -1.6]]\n",
    "x = np.array([p[0] for p in points])\n",
    "y = np.array([p[1] for p in points])\n",
    "\n",
    "A = np.vstack([np.ones(x.shape[0]), np.sin(x)]).T\n",
    "solution = LA.lstsq(A, y.T, rcond=None)\n",
    "a, b = solution[0]\n",
    "rss = solution[1][0]\n",
    "\n",
    "print('a =', a, 'b =', b)\n",
    "print('rss = ', rss)\n",
    "\n",
    "t_points = np.linspace(-2, 10, 100)\n",
    "t_values = a + b * np.sin(t_points)\n",
    "plt.plot(t_points, t_values, color='red')\n",
    "plt.plot(x, y, 'o', color='blue')\n",
    "plt.show()"
   ]
  },
  {
   "cell_type": "code",
   "execution_count": null,
   "metadata": {},
   "outputs": [],
   "source": []
  },
  {
   "cell_type": "code",
   "execution_count": null,
   "metadata": {},
   "outputs": [],
   "source": []
  },
  {
   "cell_type": "markdown",
   "metadata": {},
   "source": [
    "**5.** U datoteci *social_reach.csv* se nalaze cene reklamiranja za različite demografske grupe, koje su date u hiljadama evra za 1000 pregleda. Svaka od tri kolone označava različitu platformu za reklamiranje (na primer, platforme mogu biti Facebook, Instagram ili YouTube). Svaki red označava različitu demografsku grupu, koja može npr. biti posebna država u kojoj se reklama plasira. Potrebno je odrediti iznos sredstava da se ostvari približno milion pregleda za svaku demografsku grupu, gledajući po svim platformama ukupno."
   ]
  },
  {
   "cell_type": "markdown",
   "metadata": {},
   "source": [
    "**Rešenje.** Najpre ćemo učitati i prikazati CSV fajl:"
   ]
  },
  {
   "cell_type": "code",
   "execution_count": 11,
   "metadata": {},
   "outputs": [
    {
     "data": {
      "text/html": [
       "<div>\n",
       "<style scoped>\n",
       "    .dataframe tbody tr th:only-of-type {\n",
       "        vertical-align: middle;\n",
       "    }\n",
       "\n",
       "    .dataframe tbody tr th {\n",
       "        vertical-align: top;\n",
       "    }\n",
       "\n",
       "    .dataframe thead th {\n",
       "        text-align: right;\n",
       "    }\n",
       "</style>\n",
       "<table border=\"1\" class=\"dataframe\">\n",
       "  <thead>\n",
       "    <tr style=\"text-align: right;\">\n",
       "      <th></th>\n",
       "      <th>web1</th>\n",
       "      <th>web2</th>\n",
       "      <th>web3</th>\n",
       "    </tr>\n",
       "  </thead>\n",
       "  <tbody>\n",
       "    <tr>\n",
       "      <th>0</th>\n",
       "      <td>0.97</td>\n",
       "      <td>1.86</td>\n",
       "      <td>0.41</td>\n",
       "    </tr>\n",
       "    <tr>\n",
       "      <th>1</th>\n",
       "      <td>1.23</td>\n",
       "      <td>2.18</td>\n",
       "      <td>0.53</td>\n",
       "    </tr>\n",
       "    <tr>\n",
       "      <th>2</th>\n",
       "      <td>0.80</td>\n",
       "      <td>1.24</td>\n",
       "      <td>0.62</td>\n",
       "    </tr>\n",
       "    <tr>\n",
       "      <th>3</th>\n",
       "      <td>1.29</td>\n",
       "      <td>0.98</td>\n",
       "      <td>0.51</td>\n",
       "    </tr>\n",
       "    <tr>\n",
       "      <th>4</th>\n",
       "      <td>1.10</td>\n",
       "      <td>1.23</td>\n",
       "      <td>0.69</td>\n",
       "    </tr>\n",
       "    <tr>\n",
       "      <th>5</th>\n",
       "      <td>0.67</td>\n",
       "      <td>0.34</td>\n",
       "      <td>0.54</td>\n",
       "    </tr>\n",
       "    <tr>\n",
       "      <th>6</th>\n",
       "      <td>0.87</td>\n",
       "      <td>0.26</td>\n",
       "      <td>0.62</td>\n",
       "    </tr>\n",
       "    <tr>\n",
       "      <th>7</th>\n",
       "      <td>1.10</td>\n",
       "      <td>0.16</td>\n",
       "      <td>0.48</td>\n",
       "    </tr>\n",
       "    <tr>\n",
       "      <th>8</th>\n",
       "      <td>1.92</td>\n",
       "      <td>0.22</td>\n",
       "      <td>0.71</td>\n",
       "    </tr>\n",
       "    <tr>\n",
       "      <th>9</th>\n",
       "      <td>1.29</td>\n",
       "      <td>0.12</td>\n",
       "      <td>0.62</td>\n",
       "    </tr>\n",
       "  </tbody>\n",
       "</table>\n",
       "</div>"
      ],
      "text/plain": [
       "   web1  web2  web3\n",
       "0  0.97  1.86  0.41\n",
       "1  1.23  2.18  0.53\n",
       "2  0.80  1.24  0.62\n",
       "3  1.29  0.98  0.51\n",
       "4  1.10  1.23  0.69\n",
       "5  0.67  0.34  0.54\n",
       "6  0.87  0.26  0.62\n",
       "7  1.10  0.16  0.48\n",
       "8  1.92  0.22  0.71\n",
       "9  1.29  0.12  0.62"
      ]
     },
     "execution_count": 11,
     "metadata": {},
     "output_type": "execute_result"
    }
   ],
   "source": [
    "data = pd.read_csv('social_reach.csv')\n",
    "data"
   ]
  },
  {
   "cell_type": "markdown",
   "metadata": {},
   "source": [
    "Neka je $a_{ij}$, $0 \\le i \\le 9$, $0 \\le j \\le 2$ cena u hiljadama evra za 1000 pregleda za svaku od 10 demografskih grupa i svaku platformu za reklamiranje. Kako je potrebno odrediti ukupne cene za reklamiranje, potrebno je rešiti sledeći sistem jednačina:\n",
    "\n",
    "$$\\begin{bmatrix}a_{00}&a_{01}&a_{02}\\\\a_{10}&a_{11}&a_{12}\\\\ \\vdots & \\vdots & \\vdots\\\\a_{90}&a_{91}&a_{92}\\end{bmatrix}\\begin{bmatrix}x_1\\\\x_2\\\\x_3\\end{bmatrix} = \\begin{bmatrix}1000\\\\1000\\\\\\vdots\\\\1000\\end{bmatrix}.$$\n",
    "\n",
    "Elementi rezultujućeg vektora su 1000, jer su cene u matrici date za 1000 pregleda, a potrebno je ostvariti milion pregleda. Za svaku demografsku grupu $i$, potrebno je odrediti koeficijente $x_1,x_2,x_3$ tako da važi $a_{i0}x_1+a_{i1}x_2+a_{i2}x_3 \\approx 1000$, pa se koeficijenti mogu približno odrediti metodom najmanjih kvadrata."
   ]
  },
  {
   "cell_type": "code",
   "execution_count": 12,
   "metadata": {},
   "outputs": [
    {
     "data": {
      "image/png": "[encoded data removed]",
      "text/plain": [
       "<Figure size 432x288 with 1 Axes>"
      ]
     },
     "metadata": {
      "needs_background": "light"
     },
     "output_type": "display_data"
    }
   ],
   "source": [
    "A = data[['web1', 'web2', 'web3']]\n",
    "b = 1000 * np.ones(A.shape[0])\n",
    "x, _, _, _ = LA.lstsq(A, b, rcond=None)\n",
    "result = pd.Series(np.dot(A, x))\n",
    "plt.xticks(np.linspace(0, 9, 10))\n",
    "plt.bar(result.index, result.values)\n",
    "plt.show()"
   ]
  },
  {
   "cell_type": "markdown",
   "metadata": {},
   "source": [
    "Na prethodnom grafiku je prikazan ukupan broj u hiljadama pregleda za svaku demografsku grupu. Ukupna cena koja je plaćena za demografsku grupu $i$ iznosi $a_{i0}x_1+a_{i1}x_2+a_{i2}x_3$ hiljada dolara, gde su vrednosti koordinata vektora $x$ jednake:"
   ]
  },
  {
   "cell_type": "code",
   "execution_count": 13,
   "metadata": {},
   "outputs": [
    {
     "name": "stdout",
     "output_type": "stream",
     "text": [
      "x1 = 62.07662454385008\n",
      "x2 = 99.98500402826238\n",
      "x3 = 1442.8374625412225\n"
     ]
    }
   ],
   "source": [
    "print('x1 =', x[0])\n",
    "print('x2 =', x[1])\n",
    "print('x3 =', x[2])"
   ]
  }
 ],
 "metadata": {
  "kernelspec": {
   "display_name": "Python 3",
   "language": "python",
   "name": "python3"
  },
  "language_info": {
   "codemirror_mode": {
    "name": "ipython",
    "version": 3
   },
   "file_extension": ".py",
   "mimetype": "text/x-python",
   "name": "python",
   "nbconvert_exporter": "python",
   "pygments_lexer": "ipython3",
   "version": "3.7.6"
  }
 },
 "nbformat": 4,
 "nbformat_minor": 2
}
