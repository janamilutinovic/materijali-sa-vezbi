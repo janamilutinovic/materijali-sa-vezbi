{
 "cells": [
  {
   "cell_type": "markdown",
   "metadata": {},
   "source": [
    "# Grebena regresija"
   ]
  },
  {
   "cell_type": "markdown",
   "metadata": {},
   "source": [
    "Kod linearne regresije, pri rešavanju sistema $A\\beta = Y$ metodom najmanjih kvadrata, gde se minimizuje vrednost izraza $||Y - \\beta A||_2^2$ i čije je rešenje dato u obliku $\\beta=(A^{T}A)^{-1}A^{T}Y$, može se dogoditi da matrica $A^{T}A$ nije invertibilina ili loše uslovljena. Da bi se ovo nadomestilo, umesto pomenute minimizacije, vrši se minimizacija $||Y - \\beta A||_2^2 + \\alpha ||\\beta||_2^2$, za pogodno izabran koeficijent $\\alpha$. Umesto linearne, tada se govori o grebenoj regresiji, a izraz $\\alpha ||\\beta||_2^2$ se naziva regularizacioni element."
   ]
  },
  {
   "cell_type": "markdown",
   "metadata": {},
   "source": [
    "**1.** Na osnovu statistika o performansama bejzbol igrača, predvideti visine njihovih plata. Svi relevantni podaci se nalaze u fajlu *hitters.csv*."
   ]
  },
  {
   "cell_type": "markdown",
   "metadata": {},
   "source": [
    "**Rešenje.** Najpre učitajmo podatke i izvucimo osnovne informacije o njima."
   ]
  },
  {
   "cell_type": "code",
   "execution_count": 1,
   "metadata": {},
   "outputs": [],
   "source": [
    "import numpy as np\n",
    "import pandas as pd\n",
    "import matplotlib.pyplot as plt\n",
    "\n",
    "from sklearn import linear_model\n",
    "from sklearn import metrics\n",
    "from sklearn import model_selection"
   ]
  },
  {
   "cell_type": "code",
   "execution_count": 2,
   "metadata": {},
   "outputs": [
    {
     "data": {
      "text/plain": [
       "(322, 21)"
      ]
     },
     "execution_count": 2,
     "metadata": {},
     "output_type": "execute_result"
    }
   ],
   "source": [
    "data = pd.read_csv('data/hitters.csv')\n",
    "data.shape"
   ]
  },
  {
   "cell_type": "code",
   "execution_count": 3,
   "metadata": {},
   "outputs": [
    {
     "data": {
      "text/html": [
       "<div>\n",
       "<style scoped>\n",
       "    .dataframe tbody tr th:only-of-type {\n",
       "        vertical-align: middle;\n",
       "    }\n",
       "\n",
       "    .dataframe tbody tr th {\n",
       "        vertical-align: top;\n",
       "    }\n",
       "\n",
       "    .dataframe thead th {\n",
       "        text-align: right;\n",
       "    }\n",
       "</style>\n",
       "<table border=\"1\" class=\"dataframe\">\n",
       "  <thead>\n",
       "    <tr style=\"text-align: right;\">\n",
       "      <th></th>\n",
       "      <th>Player</th>\n",
       "      <th>AtBat</th>\n",
       "      <th>Hits</th>\n",
       "      <th>HmRun</th>\n",
       "      <th>Runs</th>\n",
       "      <th>RBI</th>\n",
       "      <th>Walks</th>\n",
       "      <th>Years</th>\n",
       "      <th>CAtBat</th>\n",
       "      <th>CHits</th>\n",
       "      <th>...</th>\n",
       "      <th>CRuns</th>\n",
       "      <th>CRBI</th>\n",
       "      <th>CWalks</th>\n",
       "      <th>League</th>\n",
       "      <th>Division</th>\n",
       "      <th>PutOuts</th>\n",
       "      <th>Assists</th>\n",
       "      <th>Errors</th>\n",
       "      <th>Salary</th>\n",
       "      <th>NewLeague</th>\n",
       "    </tr>\n",
       "  </thead>\n",
       "  <tbody>\n",
       "    <tr>\n",
       "      <th>0</th>\n",
       "      <td>-Andy Allanson</td>\n",
       "      <td>293</td>\n",
       "      <td>66</td>\n",
       "      <td>1</td>\n",
       "      <td>30</td>\n",
       "      <td>29</td>\n",
       "      <td>14</td>\n",
       "      <td>1</td>\n",
       "      <td>293</td>\n",
       "      <td>66</td>\n",
       "      <td>...</td>\n",
       "      <td>30</td>\n",
       "      <td>29</td>\n",
       "      <td>14</td>\n",
       "      <td>A</td>\n",
       "      <td>E</td>\n",
       "      <td>446</td>\n",
       "      <td>33</td>\n",
       "      <td>20</td>\n",
       "      <td>NaN</td>\n",
       "      <td>A</td>\n",
       "    </tr>\n",
       "    <tr>\n",
       "      <th>1</th>\n",
       "      <td>-Alan Ashby</td>\n",
       "      <td>315</td>\n",
       "      <td>81</td>\n",
       "      <td>7</td>\n",
       "      <td>24</td>\n",
       "      <td>38</td>\n",
       "      <td>39</td>\n",
       "      <td>14</td>\n",
       "      <td>3449</td>\n",
       "      <td>835</td>\n",
       "      <td>...</td>\n",
       "      <td>321</td>\n",
       "      <td>414</td>\n",
       "      <td>375</td>\n",
       "      <td>N</td>\n",
       "      <td>W</td>\n",
       "      <td>632</td>\n",
       "      <td>43</td>\n",
       "      <td>10</td>\n",
       "      <td>475.0</td>\n",
       "      <td>N</td>\n",
       "    </tr>\n",
       "    <tr>\n",
       "      <th>2</th>\n",
       "      <td>-Alvin Davis</td>\n",
       "      <td>479</td>\n",
       "      <td>130</td>\n",
       "      <td>18</td>\n",
       "      <td>66</td>\n",
       "      <td>72</td>\n",
       "      <td>76</td>\n",
       "      <td>3</td>\n",
       "      <td>1624</td>\n",
       "      <td>457</td>\n",
       "      <td>...</td>\n",
       "      <td>224</td>\n",
       "      <td>266</td>\n",
       "      <td>263</td>\n",
       "      <td>A</td>\n",
       "      <td>W</td>\n",
       "      <td>880</td>\n",
       "      <td>82</td>\n",
       "      <td>14</td>\n",
       "      <td>480.0</td>\n",
       "      <td>A</td>\n",
       "    </tr>\n",
       "    <tr>\n",
       "      <th>3</th>\n",
       "      <td>-Andre Dawson</td>\n",
       "      <td>496</td>\n",
       "      <td>141</td>\n",
       "      <td>20</td>\n",
       "      <td>65</td>\n",
       "      <td>78</td>\n",
       "      <td>37</td>\n",
       "      <td>11</td>\n",
       "      <td>5628</td>\n",
       "      <td>1575</td>\n",
       "      <td>...</td>\n",
       "      <td>828</td>\n",
       "      <td>838</td>\n",
       "      <td>354</td>\n",
       "      <td>N</td>\n",
       "      <td>E</td>\n",
       "      <td>200</td>\n",
       "      <td>11</td>\n",
       "      <td>3</td>\n",
       "      <td>500.0</td>\n",
       "      <td>N</td>\n",
       "    </tr>\n",
       "    <tr>\n",
       "      <th>4</th>\n",
       "      <td>-Andres Galarraga</td>\n",
       "      <td>321</td>\n",
       "      <td>87</td>\n",
       "      <td>10</td>\n",
       "      <td>39</td>\n",
       "      <td>42</td>\n",
       "      <td>30</td>\n",
       "      <td>2</td>\n",
       "      <td>396</td>\n",
       "      <td>101</td>\n",
       "      <td>...</td>\n",
       "      <td>48</td>\n",
       "      <td>46</td>\n",
       "      <td>33</td>\n",
       "      <td>N</td>\n",
       "      <td>E</td>\n",
       "      <td>805</td>\n",
       "      <td>40</td>\n",
       "      <td>4</td>\n",
       "      <td>91.5</td>\n",
       "      <td>N</td>\n",
       "    </tr>\n",
       "  </tbody>\n",
       "</table>\n",
       "<p>5 rows × 21 columns</p>\n",
       "</div>"
      ],
      "text/plain": [
       "              Player  AtBat  Hits  HmRun  Runs  RBI  Walks  Years  CAtBat  \\\n",
       "0     -Andy Allanson    293    66      1    30   29     14      1     293   \n",
       "1        -Alan Ashby    315    81      7    24   38     39     14    3449   \n",
       "2       -Alvin Davis    479   130     18    66   72     76      3    1624   \n",
       "3      -Andre Dawson    496   141     20    65   78     37     11    5628   \n",
       "4  -Andres Galarraga    321    87     10    39   42     30      2     396   \n",
       "\n",
       "   CHits  ...  CRuns  CRBI  CWalks  League Division PutOuts  Assists  Errors  \\\n",
       "0     66  ...     30    29      14       A        E     446       33      20   \n",
       "1    835  ...    321   414     375       N        W     632       43      10   \n",
       "2    457  ...    224   266     263       A        W     880       82      14   \n",
       "3   1575  ...    828   838     354       N        E     200       11       3   \n",
       "4    101  ...     48    46      33       N        E     805       40       4   \n",
       "\n",
       "   Salary  NewLeague  \n",
       "0     NaN          A  \n",
       "1   475.0          N  \n",
       "2   480.0          A  \n",
       "3   500.0          N  \n",
       "4    91.5          N  \n",
       "\n",
       "[5 rows x 21 columns]"
      ]
     },
     "execution_count": 3,
     "metadata": {},
     "output_type": "execute_result"
    }
   ],
   "source": [
    "data.head()"
   ]
  },
  {
   "cell_type": "code",
   "execution_count": 4,
   "metadata": {},
   "outputs": [
    {
     "data": {
      "text/html": [
       "<div>\n",
       "<style scoped>\n",
       "    .dataframe tbody tr th:only-of-type {\n",
       "        vertical-align: middle;\n",
       "    }\n",
       "\n",
       "    .dataframe tbody tr th {\n",
       "        vertical-align: top;\n",
       "    }\n",
       "\n",
       "    .dataframe thead th {\n",
       "        text-align: right;\n",
       "    }\n",
       "</style>\n",
       "<table border=\"1\" class=\"dataframe\">\n",
       "  <thead>\n",
       "    <tr style=\"text-align: right;\">\n",
       "      <th></th>\n",
       "      <th>Player</th>\n",
       "      <th>AtBat</th>\n",
       "      <th>Hits</th>\n",
       "      <th>HmRun</th>\n",
       "      <th>Runs</th>\n",
       "      <th>RBI</th>\n",
       "      <th>Walks</th>\n",
       "      <th>Years</th>\n",
       "      <th>CAtBat</th>\n",
       "      <th>CHits</th>\n",
       "      <th>...</th>\n",
       "      <th>CRuns</th>\n",
       "      <th>CRBI</th>\n",
       "      <th>CWalks</th>\n",
       "      <th>League</th>\n",
       "      <th>Division</th>\n",
       "      <th>PutOuts</th>\n",
       "      <th>Assists</th>\n",
       "      <th>Errors</th>\n",
       "      <th>Salary</th>\n",
       "      <th>NewLeague</th>\n",
       "    </tr>\n",
       "  </thead>\n",
       "  <tbody>\n",
       "    <tr>\n",
       "      <th>317</th>\n",
       "      <td>-Willie McGee</td>\n",
       "      <td>497</td>\n",
       "      <td>127</td>\n",
       "      <td>7</td>\n",
       "      <td>65</td>\n",
       "      <td>48</td>\n",
       "      <td>37</td>\n",
       "      <td>5</td>\n",
       "      <td>2703</td>\n",
       "      <td>806</td>\n",
       "      <td>...</td>\n",
       "      <td>379</td>\n",
       "      <td>311</td>\n",
       "      <td>138</td>\n",
       "      <td>N</td>\n",
       "      <td>E</td>\n",
       "      <td>325</td>\n",
       "      <td>9</td>\n",
       "      <td>3</td>\n",
       "      <td>700.0</td>\n",
       "      <td>N</td>\n",
       "    </tr>\n",
       "    <tr>\n",
       "      <th>318</th>\n",
       "      <td>-Willie Randolph</td>\n",
       "      <td>492</td>\n",
       "      <td>136</td>\n",
       "      <td>5</td>\n",
       "      <td>76</td>\n",
       "      <td>50</td>\n",
       "      <td>94</td>\n",
       "      <td>12</td>\n",
       "      <td>5511</td>\n",
       "      <td>1511</td>\n",
       "      <td>...</td>\n",
       "      <td>897</td>\n",
       "      <td>451</td>\n",
       "      <td>875</td>\n",
       "      <td>A</td>\n",
       "      <td>E</td>\n",
       "      <td>313</td>\n",
       "      <td>381</td>\n",
       "      <td>20</td>\n",
       "      <td>875.0</td>\n",
       "      <td>A</td>\n",
       "    </tr>\n",
       "    <tr>\n",
       "      <th>319</th>\n",
       "      <td>-Wayne Tolleson</td>\n",
       "      <td>475</td>\n",
       "      <td>126</td>\n",
       "      <td>3</td>\n",
       "      <td>61</td>\n",
       "      <td>43</td>\n",
       "      <td>52</td>\n",
       "      <td>6</td>\n",
       "      <td>1700</td>\n",
       "      <td>433</td>\n",
       "      <td>...</td>\n",
       "      <td>217</td>\n",
       "      <td>93</td>\n",
       "      <td>146</td>\n",
       "      <td>A</td>\n",
       "      <td>W</td>\n",
       "      <td>37</td>\n",
       "      <td>113</td>\n",
       "      <td>7</td>\n",
       "      <td>385.0</td>\n",
       "      <td>A</td>\n",
       "    </tr>\n",
       "    <tr>\n",
       "      <th>320</th>\n",
       "      <td>-Willie Upshaw</td>\n",
       "      <td>573</td>\n",
       "      <td>144</td>\n",
       "      <td>9</td>\n",
       "      <td>85</td>\n",
       "      <td>60</td>\n",
       "      <td>78</td>\n",
       "      <td>8</td>\n",
       "      <td>3198</td>\n",
       "      <td>857</td>\n",
       "      <td>...</td>\n",
       "      <td>470</td>\n",
       "      <td>420</td>\n",
       "      <td>332</td>\n",
       "      <td>A</td>\n",
       "      <td>E</td>\n",
       "      <td>1314</td>\n",
       "      <td>131</td>\n",
       "      <td>12</td>\n",
       "      <td>960.0</td>\n",
       "      <td>A</td>\n",
       "    </tr>\n",
       "    <tr>\n",
       "      <th>321</th>\n",
       "      <td>-Willie Wilson</td>\n",
       "      <td>631</td>\n",
       "      <td>170</td>\n",
       "      <td>9</td>\n",
       "      <td>77</td>\n",
       "      <td>44</td>\n",
       "      <td>31</td>\n",
       "      <td>11</td>\n",
       "      <td>4908</td>\n",
       "      <td>1457</td>\n",
       "      <td>...</td>\n",
       "      <td>775</td>\n",
       "      <td>357</td>\n",
       "      <td>249</td>\n",
       "      <td>A</td>\n",
       "      <td>W</td>\n",
       "      <td>408</td>\n",
       "      <td>4</td>\n",
       "      <td>3</td>\n",
       "      <td>1000.0</td>\n",
       "      <td>A</td>\n",
       "    </tr>\n",
       "  </tbody>\n",
       "</table>\n",
       "<p>5 rows × 21 columns</p>\n",
       "</div>"
      ],
      "text/plain": [
       "               Player  AtBat  Hits  HmRun  Runs  RBI  Walks  Years  CAtBat  \\\n",
       "317     -Willie McGee    497   127      7    65   48     37      5    2703   \n",
       "318  -Willie Randolph    492   136      5    76   50     94     12    5511   \n",
       "319   -Wayne Tolleson    475   126      3    61   43     52      6    1700   \n",
       "320    -Willie Upshaw    573   144      9    85   60     78      8    3198   \n",
       "321    -Willie Wilson    631   170      9    77   44     31     11    4908   \n",
       "\n",
       "     CHits  ...  CRuns  CRBI  CWalks  League Division PutOuts  Assists  \\\n",
       "317    806  ...    379   311     138       N        E     325        9   \n",
       "318   1511  ...    897   451     875       A        E     313      381   \n",
       "319    433  ...    217    93     146       A        W      37      113   \n",
       "320    857  ...    470   420     332       A        E    1314      131   \n",
       "321   1457  ...    775   357     249       A        W     408        4   \n",
       "\n",
       "     Errors  Salary  NewLeague  \n",
       "317       3   700.0          N  \n",
       "318      20   875.0          A  \n",
       "319       7   385.0          A  \n",
       "320      12   960.0          A  \n",
       "321       3  1000.0          A  \n",
       "\n",
       "[5 rows x 21 columns]"
      ]
     },
     "execution_count": 4,
     "metadata": {},
     "output_type": "execute_result"
    }
   ],
   "source": [
    "data.tail()"
   ]
  },
  {
   "cell_type": "code",
   "execution_count": 5,
   "metadata": {},
   "outputs": [
    {
     "name": "stdout",
     "output_type": "stream",
     "text": [
      "<class 'pandas.core.frame.DataFrame'>\n",
      "RangeIndex: 322 entries, 0 to 321\n",
      "Data columns (total 21 columns):\n",
      " #   Column     Non-Null Count  Dtype  \n",
      "---  ------     --------------  -----  \n",
      " 0   Player     322 non-null    object \n",
      " 1   AtBat      322 non-null    int64  \n",
      " 2   Hits       322 non-null    int64  \n",
      " 3   HmRun      322 non-null    int64  \n",
      " 4   Runs       322 non-null    int64  \n",
      " 5   RBI        322 non-null    int64  \n",
      " 6   Walks      322 non-null    int64  \n",
      " 7   Years      322 non-null    int64  \n",
      " 8   CAtBat     322 non-null    int64  \n",
      " 9   CHits      322 non-null    int64  \n",
      " 10  CHmRun     322 non-null    int64  \n",
      " 11  CRuns      322 non-null    int64  \n",
      " 12  CRBI       322 non-null    int64  \n",
      " 13  CWalks     322 non-null    int64  \n",
      " 14  League     322 non-null    object \n",
      " 15  Division   322 non-null    object \n",
      " 16  PutOuts    322 non-null    int64  \n",
      " 17  Assists    322 non-null    int64  \n",
      " 18  Errors     322 non-null    int64  \n",
      " 19  Salary     263 non-null    float64\n",
      " 20  NewLeague  322 non-null    object \n",
      "dtypes: float64(1), int64(16), object(4)\n",
      "memory usage: 53.0+ KB\n"
     ]
    }
   ],
   "source": [
    "data.info()"
   ]
  },
  {
   "cell_type": "code",
   "execution_count": 6,
   "metadata": {},
   "outputs": [
    {
     "data": {
      "text/plain": [
       "Player        0\n",
       "AtBat         0\n",
       "Hits          0\n",
       "HmRun         0\n",
       "Runs          0\n",
       "RBI           0\n",
       "Walks         0\n",
       "Years         0\n",
       "CAtBat        0\n",
       "CHits         0\n",
       "CHmRun        0\n",
       "CRuns         0\n",
       "CRBI          0\n",
       "CWalks        0\n",
       "League        0\n",
       "Division      0\n",
       "PutOuts       0\n",
       "Assists       0\n",
       "Errors        0\n",
       "Salary       59\n",
       "NewLeague     0\n",
       "dtype: int64"
      ]
     },
     "execution_count": 6,
     "metadata": {},
     "output_type": "execute_result"
    }
   ],
   "source": [
    "np.sum(data[data.columns].isnull(), axis=0)"
   ]
  },
  {
   "cell_type": "markdown",
   "metadata": {},
   "source": [
    "Zaključujemo da postoji 322 unosa i 21 kolona. Od toga, jedino kod plata bejzbol igrača imamo neke nedostajuće vrednosti. Pošto nam takvi unosi nisu relevantni, obrisaćemo ih (ukupno ima takvih 59 unosa)."
   ]
  },
  {
   "cell_type": "code",
   "execution_count": 7,
   "metadata": {},
   "outputs": [
    {
     "name": "stdout",
     "output_type": "stream",
     "text": [
      "Shape: (263, 21) \n",
      "\n",
      "<class 'pandas.core.frame.DataFrame'>\n",
      "Int64Index: 263 entries, 1 to 321\n",
      "Data columns (total 21 columns):\n",
      " #   Column     Non-Null Count  Dtype  \n",
      "---  ------     --------------  -----  \n",
      " 0   Player     263 non-null    object \n",
      " 1   AtBat      263 non-null    int64  \n",
      " 2   Hits       263 non-null    int64  \n",
      " 3   HmRun      263 non-null    int64  \n",
      " 4   Runs       263 non-null    int64  \n",
      " 5   RBI        263 non-null    int64  \n",
      " 6   Walks      263 non-null    int64  \n",
      " 7   Years      263 non-null    int64  \n",
      " 8   CAtBat     263 non-null    int64  \n",
      " 9   CHits      263 non-null    int64  \n",
      " 10  CHmRun     263 non-null    int64  \n",
      " 11  CRuns      263 non-null    int64  \n",
      " 12  CRBI       263 non-null    int64  \n",
      " 13  CWalks     263 non-null    int64  \n",
      " 14  League     263 non-null    object \n",
      " 15  Division   263 non-null    object \n",
      " 16  PutOuts    263 non-null    int64  \n",
      " 17  Assists    263 non-null    int64  \n",
      " 18  Errors     263 non-null    int64  \n",
      " 19  Salary     263 non-null    float64\n",
      " 20  NewLeague  263 non-null    object \n",
      "dtypes: float64(1), int64(16), object(4)\n",
      "memory usage: 45.2+ KB\n"
     ]
    }
   ],
   "source": [
    "data = data.dropna()\n",
    "print('Shape:', data.shape, '\\n')\n",
    "data.info()"
   ]
  },
  {
   "cell_type": "markdown",
   "metadata": {},
   "source": [
    "Sada nam je preostalo 263 unosa, bez nedostajućih vrednosti. Kolona *Salary* je vrednost koju tražimo. Za vektor nezavisnih promenljivih, pored kolone *Salary*, potrebno je odbaciti sve one kolone koje nemaju numeričku vrednost koja je od značaja za visinu plate. Među tim vrednostima su *Player*, *League*, *Division* i *NewLeague*."
   ]
  },
  {
   "cell_type": "code",
   "execution_count": 8,
   "metadata": {},
   "outputs": [
    {
     "data": {
      "text/plain": [
       "(263, 16)"
      ]
     },
     "execution_count": 8,
     "metadata": {},
     "output_type": "execute_result"
    }
   ],
   "source": [
    "X = data.drop(['Player', 'League', 'Division', 'NewLeague', 'Salary'], axis=1)\n",
    "X.shape"
   ]
  },
  {
   "cell_type": "code",
   "execution_count": 9,
   "metadata": {},
   "outputs": [
    {
     "data": {
      "text/plain": [
       "(263,)"
      ]
     },
     "execution_count": 9,
     "metadata": {},
     "output_type": "execute_result"
    }
   ],
   "source": [
    "Y = data['Salary']\n",
    "Y.shape"
   ]
  },
  {
   "cell_type": "markdown",
   "metadata": {},
   "source": [
    "Vektor nezavisnih promenljivih $X$ i vektor zavisnih promenljivih $Y$ ćemo podeliti na skup za treniranje i skup za testiranje, pri čemu će oko 67% podataka biti za treniranje, a 33% za test. Nakon što kreiramo model na osnovu trening skupa, testiranje će biti izvršeno na test skupu. Ovim će biti izbegnut *overfitting* (videti i primere za linearnu regresiju)."
   ]
  },
  {
   "cell_type": "code",
   "execution_count": 10,
   "metadata": {},
   "outputs": [],
   "source": [
    "X_train, X_test, Y_train, Y_test = model_selection.train_test_split(X, Y, random_state=1, test_size=0.33)"
   ]
  },
  {
   "cell_type": "markdown",
   "metadata": {},
   "source": [
    "Razmotrimo numeričke vrednosti kolona vektora `X_train`:"
   ]
  },
  {
   "cell_type": "code",
   "execution_count": 11,
   "metadata": {},
   "outputs": [
    {
     "data": {
      "text/html": [
       "<div>\n",
       "<style scoped>\n",
       "    .dataframe tbody tr th:only-of-type {\n",
       "        vertical-align: middle;\n",
       "    }\n",
       "\n",
       "    .dataframe tbody tr th {\n",
       "        vertical-align: top;\n",
       "    }\n",
       "\n",
       "    .dataframe thead th {\n",
       "        text-align: right;\n",
       "    }\n",
       "</style>\n",
       "<table border=\"1\" class=\"dataframe\">\n",
       "  <thead>\n",
       "    <tr style=\"text-align: right;\">\n",
       "      <th></th>\n",
       "      <th>AtBat</th>\n",
       "      <th>Hits</th>\n",
       "      <th>HmRun</th>\n",
       "      <th>Runs</th>\n",
       "      <th>RBI</th>\n",
       "      <th>Walks</th>\n",
       "      <th>Years</th>\n",
       "      <th>CAtBat</th>\n",
       "      <th>CHits</th>\n",
       "      <th>CHmRun</th>\n",
       "      <th>CRuns</th>\n",
       "      <th>CRBI</th>\n",
       "      <th>CWalks</th>\n",
       "      <th>PutOuts</th>\n",
       "      <th>Assists</th>\n",
       "      <th>Errors</th>\n",
       "    </tr>\n",
       "  </thead>\n",
       "  <tbody>\n",
       "    <tr>\n",
       "      <th>164</th>\n",
       "      <td>257</td>\n",
       "      <td>66</td>\n",
       "      <td>5</td>\n",
       "      <td>31</td>\n",
       "      <td>26</td>\n",
       "      <td>32</td>\n",
       "      <td>14</td>\n",
       "      <td>3910</td>\n",
       "      <td>979</td>\n",
       "      <td>33</td>\n",
       "      <td>518</td>\n",
       "      <td>324</td>\n",
       "      <td>382</td>\n",
       "      <td>87</td>\n",
       "      <td>166</td>\n",
       "      <td>14</td>\n",
       "    </tr>\n",
       "    <tr>\n",
       "      <th>192</th>\n",
       "      <td>491</td>\n",
       "      <td>141</td>\n",
       "      <td>11</td>\n",
       "      <td>77</td>\n",
       "      <td>47</td>\n",
       "      <td>37</td>\n",
       "      <td>15</td>\n",
       "      <td>4291</td>\n",
       "      <td>1240</td>\n",
       "      <td>84</td>\n",
       "      <td>615</td>\n",
       "      <td>430</td>\n",
       "      <td>340</td>\n",
       "      <td>239</td>\n",
       "      <td>8</td>\n",
       "      <td>2</td>\n",
       "    </tr>\n",
       "    <tr>\n",
       "      <th>200</th>\n",
       "      <td>584</td>\n",
       "      <td>157</td>\n",
       "      <td>20</td>\n",
       "      <td>95</td>\n",
       "      <td>73</td>\n",
       "      <td>63</td>\n",
       "      <td>10</td>\n",
       "      <td>4704</td>\n",
       "      <td>1320</td>\n",
       "      <td>93</td>\n",
       "      <td>724</td>\n",
       "      <td>522</td>\n",
       "      <td>576</td>\n",
       "      <td>276</td>\n",
       "      <td>421</td>\n",
       "      <td>11</td>\n",
       "    </tr>\n",
       "    <tr>\n",
       "      <th>194</th>\n",
       "      <td>589</td>\n",
       "      <td>149</td>\n",
       "      <td>21</td>\n",
       "      <td>89</td>\n",
       "      <td>86</td>\n",
       "      <td>64</td>\n",
       "      <td>7</td>\n",
       "      <td>3558</td>\n",
       "      <td>928</td>\n",
       "      <td>102</td>\n",
       "      <td>513</td>\n",
       "      <td>471</td>\n",
       "      <td>351</td>\n",
       "      <td>371</td>\n",
       "      <td>6</td>\n",
       "      <td>6</td>\n",
       "    </tr>\n",
       "    <tr>\n",
       "      <th>151</th>\n",
       "      <td>151</td>\n",
       "      <td>41</td>\n",
       "      <td>4</td>\n",
       "      <td>26</td>\n",
       "      <td>21</td>\n",
       "      <td>19</td>\n",
       "      <td>2</td>\n",
       "      <td>288</td>\n",
       "      <td>68</td>\n",
       "      <td>9</td>\n",
       "      <td>45</td>\n",
       "      <td>39</td>\n",
       "      <td>35</td>\n",
       "      <td>28</td>\n",
       "      <td>56</td>\n",
       "      <td>2</td>\n",
       "    </tr>\n",
       "  </tbody>\n",
       "</table>\n",
       "</div>"
      ],
      "text/plain": [
       "     AtBat  Hits  HmRun  Runs  RBI  Walks  Years  CAtBat  CHits  CHmRun  \\\n",
       "164    257    66      5    31   26     32     14    3910    979      33   \n",
       "192    491   141     11    77   47     37     15    4291   1240      84   \n",
       "200    584   157     20    95   73     63     10    4704   1320      93   \n",
       "194    589   149     21    89   86     64      7    3558    928     102   \n",
       "151    151    41      4    26   21     19      2     288     68       9   \n",
       "\n",
       "     CRuns  CRBI  CWalks  PutOuts  Assists  Errors  \n",
       "164    518   324     382       87      166      14  \n",
       "192    615   430     340      239        8       2  \n",
       "200    724   522     576      276      421      11  \n",
       "194    513   471     351      371        6       6  \n",
       "151     45    39      35       28       56       2  "
      ]
     },
     "execution_count": 11,
     "metadata": {},
     "output_type": "execute_result"
    }
   ],
   "source": [
    "X_train.head()"
   ]
  },
  {
   "cell_type": "code",
   "execution_count": 12,
   "metadata": {},
   "outputs": [
    {
     "data": {
      "text/html": [
       "<div>\n",
       "<style scoped>\n",
       "    .dataframe tbody tr th:only-of-type {\n",
       "        vertical-align: middle;\n",
       "    }\n",
       "\n",
       "    .dataframe tbody tr th {\n",
       "        vertical-align: top;\n",
       "    }\n",
       "\n",
       "    .dataframe thead th {\n",
       "        text-align: right;\n",
       "    }\n",
       "</style>\n",
       "<table border=\"1\" class=\"dataframe\">\n",
       "  <thead>\n",
       "    <tr style=\"text-align: right;\">\n",
       "      <th></th>\n",
       "      <th>AtBat</th>\n",
       "      <th>Hits</th>\n",
       "      <th>HmRun</th>\n",
       "      <th>Runs</th>\n",
       "      <th>RBI</th>\n",
       "      <th>Walks</th>\n",
       "      <th>Years</th>\n",
       "      <th>CAtBat</th>\n",
       "      <th>CHits</th>\n",
       "      <th>CHmRun</th>\n",
       "      <th>CRuns</th>\n",
       "      <th>CRBI</th>\n",
       "      <th>CWalks</th>\n",
       "      <th>PutOuts</th>\n",
       "      <th>Assists</th>\n",
       "      <th>Errors</th>\n",
       "    </tr>\n",
       "  </thead>\n",
       "  <tbody>\n",
       "    <tr>\n",
       "      <th>255</th>\n",
       "      <td>246</td>\n",
       "      <td>76</td>\n",
       "      <td>5</td>\n",
       "      <td>35</td>\n",
       "      <td>39</td>\n",
       "      <td>13</td>\n",
       "      <td>6</td>\n",
       "      <td>912</td>\n",
       "      <td>234</td>\n",
       "      <td>12</td>\n",
       "      <td>102</td>\n",
       "      <td>96</td>\n",
       "      <td>80</td>\n",
       "      <td>44</td>\n",
       "      <td>0</td>\n",
       "      <td>1</td>\n",
       "    </tr>\n",
       "    <tr>\n",
       "      <th>313</th>\n",
       "      <td>580</td>\n",
       "      <td>207</td>\n",
       "      <td>8</td>\n",
       "      <td>107</td>\n",
       "      <td>71</td>\n",
       "      <td>105</td>\n",
       "      <td>5</td>\n",
       "      <td>2778</td>\n",
       "      <td>978</td>\n",
       "      <td>32</td>\n",
       "      <td>474</td>\n",
       "      <td>322</td>\n",
       "      <td>417</td>\n",
       "      <td>121</td>\n",
       "      <td>267</td>\n",
       "      <td>19</td>\n",
       "    </tr>\n",
       "    <tr>\n",
       "      <th>95</th>\n",
       "      <td>382</td>\n",
       "      <td>119</td>\n",
       "      <td>13</td>\n",
       "      <td>54</td>\n",
       "      <td>58</td>\n",
       "      <td>36</td>\n",
       "      <td>12</td>\n",
       "      <td>2133</td>\n",
       "      <td>594</td>\n",
       "      <td>41</td>\n",
       "      <td>287</td>\n",
       "      <td>294</td>\n",
       "      <td>227</td>\n",
       "      <td>59</td>\n",
       "      <td>156</td>\n",
       "      <td>9</td>\n",
       "    </tr>\n",
       "    <tr>\n",
       "      <th>289</th>\n",
       "      <td>263</td>\n",
       "      <td>70</td>\n",
       "      <td>1</td>\n",
       "      <td>26</td>\n",
       "      <td>23</td>\n",
       "      <td>30</td>\n",
       "      <td>4</td>\n",
       "      <td>888</td>\n",
       "      <td>220</td>\n",
       "      <td>9</td>\n",
       "      <td>83</td>\n",
       "      <td>82</td>\n",
       "      <td>86</td>\n",
       "      <td>81</td>\n",
       "      <td>147</td>\n",
       "      <td>4</td>\n",
       "    </tr>\n",
       "    <tr>\n",
       "      <th>50</th>\n",
       "      <td>457</td>\n",
       "      <td>101</td>\n",
       "      <td>14</td>\n",
       "      <td>42</td>\n",
       "      <td>63</td>\n",
       "      <td>22</td>\n",
       "      <td>17</td>\n",
       "      <td>6521</td>\n",
       "      <td>1767</td>\n",
       "      <td>281</td>\n",
       "      <td>1003</td>\n",
       "      <td>977</td>\n",
       "      <td>619</td>\n",
       "      <td>389</td>\n",
       "      <td>39</td>\n",
       "      <td>4</td>\n",
       "    </tr>\n",
       "  </tbody>\n",
       "</table>\n",
       "</div>"
      ],
      "text/plain": [
       "     AtBat  Hits  HmRun  Runs  RBI  Walks  Years  CAtBat  CHits  CHmRun  \\\n",
       "255    246    76      5    35   39     13      6     912    234      12   \n",
       "313    580   207      8   107   71    105      5    2778    978      32   \n",
       "95     382   119     13    54   58     36     12    2133    594      41   \n",
       "289    263    70      1    26   23     30      4     888    220       9   \n",
       "50     457   101     14    42   63     22     17    6521   1767     281   \n",
       "\n",
       "     CRuns  CRBI  CWalks  PutOuts  Assists  Errors  \n",
       "255    102    96      80       44        0       1  \n",
       "313    474   322     417      121      267      19  \n",
       "95     287   294     227       59      156       9  \n",
       "289     83    82      86       81      147       4  \n",
       "50    1003   977     619      389       39       4  "
      ]
     },
     "execution_count": 12,
     "metadata": {},
     "output_type": "execute_result"
    }
   ],
   "source": [
    "X_train.tail()"
   ]
  },
  {
   "cell_type": "code",
   "execution_count": 13,
   "metadata": {},
   "outputs": [
    {
     "data": {
      "text/plain": [
       "AtBat      20\n",
       "Hits        1\n",
       "HmRun       0\n",
       "Runs        0\n",
       "RBI         0\n",
       "Walks       0\n",
       "Years       1\n",
       "CAtBat     41\n",
       "CHits       9\n",
       "CHmRun      0\n",
       "CRuns       6\n",
       "CRBI        7\n",
       "CWalks      4\n",
       "PutOuts     0\n",
       "Assists     0\n",
       "Errors      0\n",
       "dtype: int64"
      ]
     },
     "execution_count": 13,
     "metadata": {},
     "output_type": "execute_result"
    }
   ],
   "source": [
    "np.min(X_train, axis=0)"
   ]
  },
  {
   "cell_type": "code",
   "execution_count": 14,
   "metadata": {},
   "outputs": [
    {
     "data": {
      "text/plain": [
       "AtBat       687\n",
       "Hits        238\n",
       "HmRun        40\n",
       "Runs        117\n",
       "RBI         121\n",
       "Walks       105\n",
       "Years        20\n",
       "CAtBat     9528\n",
       "CHits      2583\n",
       "CHmRun      548\n",
       "CRuns      1509\n",
       "CRBI       1659\n",
       "CWalks     1380\n",
       "PutOuts    1377\n",
       "Assists     492\n",
       "Errors       32\n",
       "dtype: int64"
      ]
     },
     "execution_count": 14,
     "metadata": {},
     "output_type": "execute_result"
    }
   ],
   "source": [
    "np.max(X_train, axis=0)"
   ]
  },
  {
   "cell_type": "markdown",
   "metadata": {},
   "source": [
    "Vidimo da su numeričke vrednosti podataka neuravnotežene. Za neke je maksimalna vrednosti nekoliko desetina, a za druge i do nekoliko hiljada. Da bi se model bolje ponašao, podatke ćemo standardizovati. U tu svrhu, koristićemo klasu `StandardScaler`."
   ]
  },
  {
   "cell_type": "code",
   "execution_count": 15,
   "metadata": {},
   "outputs": [],
   "source": [
    "from sklearn import preprocessing\n",
    "scaler = preprocessing.StandardScaler()\n",
    "\n",
    "X_train = X_train.astype(float)\n",
    "scaler.fit(X_train)\n",
    "X_train = scaler.transform(X_train)\n",
    "\n",
    "X_test = X_test.astype(float)\n",
    "scaler.fit(X_test)\n",
    "X_test = scaler.transform(X_test)"
   ]
  },
  {
   "cell_type": "markdown",
   "metadata": {},
   "source": [
    "Pogledajmo kako izgledaju standardizovani podaci na primeru prvih nekoliko unosa:"
   ]
  },
  {
   "cell_type": "code",
   "execution_count": 16,
   "metadata": {},
   "outputs": [
    {
     "data": {
      "text/plain": [
       "array([[-0.95766135, -0.88462149, -0.80399229, -0.91265841, -0.99537726,\n",
       "        -0.40852178,  1.30206536,  0.49808625,  0.35039991, -0.48398041,\n",
       "         0.4354037 , -0.0853185 ,  0.405521  , -0.6848655 ,  0.37775446,\n",
       "         0.93944469],\n",
       "       [ 0.63415061,  0.75540711, -0.08631194,  0.88250255, -0.18253715,\n",
       "        -0.18931497,  1.50685848,  0.66489694,  0.75720281,  0.10220339,\n",
       "         0.73323252,  0.22684114,  0.2476107 , -0.17204545, -0.74142261,\n",
       "        -0.94300994],\n",
       "       [ 1.26679383,  1.10527988,  0.99020859,  1.58495684,  0.82383633,\n",
       "         0.95056044,  0.48289287,  0.84571798,  0.88189336,  0.20564759,\n",
       "         1.06790616,  0.49777215,  1.13491619, -0.04721426,  2.18402124,\n",
       "         0.46883103],\n",
       "       [ 1.30080691,  0.9303435 ,  1.10982198,  1.35080541,  1.32702307,\n",
       "         0.9944018 , -0.13148649,  0.34397243,  0.27090969,  0.3090918 ,\n",
       "         0.42005169,  0.34758213,  0.28896816,  0.27329827, -0.75558941,\n",
       "        -0.31552507],\n",
       "       [-1.67873857, -1.43129769, -0.92360568, -1.10778461, -1.18891062,\n",
       "        -0.97845949, -1.1554521 , -1.08770991, -1.06951366, -0.75983162,\n",
       "        -1.01689564, -0.92461566, -0.89911886, -0.88392065, -0.40141945,\n",
       "        -0.94300994]])"
      ]
     },
     "execution_count": 16,
     "metadata": {},
     "output_type": "execute_result"
    }
   ],
   "source": [
    "X_train[:5]"
   ]
  },
  {
   "cell_type": "markdown",
   "metadata": {},
   "source": [
    "Sada možemo da primenimo model linearne regresije, a probaćemo i sa grebenom regresijom za, na primer, $\\alpha = 4$ i $\\alpha = 10^{10}$ (probamo sa malim i velikim vrednostima). U sva tri slučaja, izračunaćemo MSE. Za grebenu regresiju se koristi klasa `Ridge`. Koristi se na sličan način kao `LinearRegression`, sa dodatnim argumentom za vrednost parametra."
   ]
  },
  {
   "cell_type": "code",
   "execution_count": 17,
   "metadata": {},
   "outputs": [
    {
     "data": {
      "text/plain": [
       "141170.2714344441"
      ]
     },
     "execution_count": 17,
     "metadata": {},
     "output_type": "execute_result"
    }
   ],
   "source": [
    "linreg = linear_model.LinearRegression(normalize=True)\n",
    "linreg.fit(X_train, Y_train)\n",
    "Y_predict = linreg.predict(X_test)\n",
    "score = metrics.mean_squared_error(Y_test, Y_predict)\n",
    "score"
   ]
  },
  {
   "cell_type": "code",
   "execution_count": 18,
   "metadata": {},
   "outputs": [
    {
     "data": {
      "text/plain": [
       "125029.97177043825"
      ]
     },
     "execution_count": 18,
     "metadata": {},
     "output_type": "execute_result"
    }
   ],
   "source": [
    "reg1 = linear_model.Ridge(alpha=4, normalize=True)\n",
    "reg1.fit(X_train, Y_train)\n",
    "Y_predict = reg1.predict(X_test)\n",
    "score = metrics.mean_squared_error(Y_test, Y_predict)\n",
    "score"
   ]
  },
  {
   "cell_type": "code",
   "execution_count": 19,
   "metadata": {},
   "outputs": [
    {
     "data": {
      "text/plain": [
       "194839.49321437473"
      ]
     },
     "execution_count": 19,
     "metadata": {},
     "output_type": "execute_result"
    }
   ],
   "source": [
    "reg2 = linear_model.Ridge(alpha=10**10, normalize=True)\n",
    "reg2.fit(X_train, Y_train)\n",
    "Y_predict = reg2.predict(X_test)\n",
    "score = metrics.mean_squared_error(Y_test, Y_predict)\n",
    "score"
   ]
  },
  {
   "cell_type": "markdown",
   "metadata": {},
   "source": [
    "Vidimo da u prvom slučaju grebena regresija daje bolji rezultat od linearne, a u drugom nešto lošiji. Ovo nas motiviše da razmotrimo razne vrednosti parametra $\\alpha$. Ispitaćemo 100 tačaka, koji će imati vrednost između $10^{-3}$ i $10^{10}$. Dakle, razmatramo različite redove veličine."
   ]
  },
  {
   "cell_type": "code",
   "execution_count": 20,
   "metadata": {},
   "outputs": [],
   "source": [
    "alphas = 10 ** np.linspace(-3, 10, 100)\n",
    "errors = np.empty(0)\n",
    "\n",
    "for a in alphas:\n",
    "    reg = linear_model.Ridge(normalize=True, alpha=a)\n",
    "    reg.fit(X_train, Y_train)\n",
    "    Y_predict = reg.predict(X_test)\n",
    "    error = metrics.mean_squared_error(Y_predict, Y_test)\n",
    "    errors = np.append(errors, error)"
   ]
  },
  {
   "cell_type": "markdown",
   "metadata": {},
   "source": [
    "Za svaki parametar posebno je kreiran model grebene regresije, i izračunata MSE, koja je dodata u niz svih grešaka. Nacrtajmo grafik grešaka u zavisnosti od $\\alpha$. Zbog načina izbora parametra $\\alpha$ biće korišćena logaritamska skala. Kao najbolje odabrani model grebene regresije, koristićemo onaj za koji je greška najmanja."
   ]
  },
  {
   "cell_type": "code",
   "execution_count": 21,
   "metadata": {},
   "outputs": [
    {
     "data": {
      "image/png": "[encoded data removed]",
      "text/plain": [
       "<Figure size 432x288 with 1 Axes>"
      ]
     },
     "metadata": {
      "needs_background": "light"
     },
     "output_type": "display_data"
    }
   ],
   "source": [
    "plt.plot(alphas, errors)\n",
    "plt.xscale('log')\n",
    "plt.show()"
   ]
  },
  {
   "cell_type": "code",
   "execution_count": 22,
   "metadata": {},
   "outputs": [
    {
     "data": {
      "text/plain": [
       "0.7742636826811278"
      ]
     },
     "execution_count": 22,
     "metadata": {},
     "output_type": "execute_result"
    }
   ],
   "source": [
    "alphas[errors.argmin()]"
   ]
  },
  {
   "cell_type": "code",
   "execution_count": 23,
   "metadata": {},
   "outputs": [
    {
     "data": {
      "text/plain": [
       "116288.16233364365"
      ]
     },
     "execution_count": 23,
     "metadata": {},
     "output_type": "execute_result"
    }
   ],
   "source": [
    "reg3 = linear_model.Ridge(alpha=0.572236765935022, normalize=True)\n",
    "reg3.fit(X_train, Y_train)\n",
    "Y_predict = reg3.predict(X_test)\n",
    "score = metrics.mean_squared_error(Y_test, Y_predict)\n",
    "score"
   ]
  },
  {
   "cell_type": "markdown",
   "metadata": {},
   "source": [
    "**2.** Na osnovu informacija o kućama u Bostonu, izvršiti predikciju njihovih cena."
   ]
  },
  {
   "cell_type": "markdown",
   "metadata": {},
   "source": [
    "**Rešenje:** Biblioteka `sklearn` ima modul `datasets`, koji sadrži različite skupove podataka za analizu. Jedan od tih skupova podataka sadrži upravo informacije o kućama u Bostonu. Učitaćemo dataset, a zatim preko `DESCR` atributa ispisati osnovne informacije o njemu."
   ]
  },
  {
   "cell_type": "code",
   "execution_count": 24,
   "metadata": {},
   "outputs": [
    {
     "name": "stdout",
     "output_type": "stream",
     "text": [
      ".. _boston_dataset:\n",
      "\n",
      "Boston house prices dataset\n",
      "---------------------------\n",
      "\n",
      "**Data Set Characteristics:**  \n",
      "\n",
      "    :Number of Instances: 506 \n",
      "\n",
      "    :Number of Attributes: 13 numeric/categorical predictive. Median Value (attribute 14) is usually the target.\n",
      "\n",
      "    :Attribute Information (in order):\n",
      "        - CRIM     per capita crime rate by town\n",
      "        - ZN       proportion of residential land zoned for lots over 25,000 sq.ft.\n",
      "        - INDUS    proportion of non-retail business acres per town\n",
      "        - CHAS     Charles River dummy variable (= 1 if tract bounds river; 0 otherwise)\n",
      "        - NOX      nitric oxides concentration (parts per 10 million)\n",
      "        - RM       average number of rooms per dwelling\n",
      "        - AGE      proportion of owner-occupied units built prior to 1940\n",
      "        - DIS      weighted distances to five Boston employment centres\n",
      "        - RAD      index of accessibility to radial highways\n",
      "        - TAX      full-value property-tax rate per $10,000\n",
      "        - PTRATIO  pupil-teacher ratio by town\n",
      "        - B        1000(Bk - 0.63)^2 where Bk is the proportion of blacks by town\n",
      "        - LSTAT    % lower status of the population\n",
      "        - MEDV     Median value of owner-occupied homes in $1000's\n",
      "\n",
      "    :Missing Attribute Values: None\n",
      "\n",
      "    :Creator: Harrison, D. and Rubinfeld, D.L.\n",
      "\n",
      "This is a copy of UCI ML housing dataset.\n",
      "https://archive.ics.uci.edu/ml/machine-learning-databases/housing/\n",
      "\n",
      "\n",
      "This dataset was taken from the StatLib library which is maintained at Carnegie Mellon University.\n",
      "\n",
      "The Boston house-price data of Harrison, D. and Rubinfeld, D.L. 'Hedonic\n",
      "prices and the demand for clean air', J. Environ. Economics & Management,\n",
      "vol.5, 81-102, 1978.   Used in Belsley, Kuh & Welsch, 'Regression diagnostics\n",
      "...', Wiley, 1980.   N.B. Various transformations are used in the table on\n",
      "pages 244-261 of the latter.\n",
      "\n",
      "The Boston house-price data has been used in many machine learning papers that address regression\n",
      "problems.   \n",
      "     \n",
      ".. topic:: References\n",
      "\n",
      "   - Belsley, Kuh & Welsch, 'Regression diagnostics: Identifying Influential Data and Sources of Collinearity', Wiley, 1980. 244-261.\n",
      "   - Quinlan,R. (1993). Combining Instance-Based and Model-Based Learning. In Proceedings on the Tenth International Conference of Machine Learning, 236-243, University of Massachusetts, Amherst. Morgan Kaufmann.\n",
      "\n"
     ]
    }
   ],
   "source": [
    "from sklearn import datasets\n",
    "data = datasets.load_boston()\n",
    "print(data.DESCR)"
   ]
  },
  {
   "cell_type": "markdown",
   "metadata": {},
   "source": [
    "Kreiraćemo vektor nezavisnih promenljivih kao *data frame* objekat (dobijen pomoću `data.data`), a vektor zavisnih pomoću `data.target`. Kao i u prethodnom slučaju, podatke ćemo podeliti na skup za treniranje i skup za testiranje."
   ]
  },
  {
   "cell_type": "code",
   "execution_count": 25,
   "metadata": {},
   "outputs": [],
   "source": [
    "x = pd.DataFrame(data.data, columns=data.feature_names)\n",
    "y = data.target\n",
    "x_train, x_test, y_train, y_test = model_selection.train_test_split(x, y, test_size=0.33, random_state=1)"
   ]
  },
  {
   "cell_type": "markdown",
   "metadata": {},
   "source": [
    "Kreiraćemo model linearne regresije i model grebene regresije sa parametrom $\\alpha = 0.05$. Vrednost parametra je ručno odabrana."
   ]
  },
  {
   "cell_type": "code",
   "execution_count": 26,
   "metadata": {},
   "outputs": [
    {
     "data": {
      "text/plain": [
       "20.698475744484373"
      ]
     },
     "execution_count": 26,
     "metadata": {},
     "output_type": "execute_result"
    }
   ],
   "source": [
    "linreg = linear_model.LinearRegression()\n",
    "linreg.fit(x_train, y_train)\n",
    "y_predict = linreg.predict(x_test)\n",
    "score = metrics.mean_squared_error(y_test, y_predict)\n",
    "score"
   ]
  },
  {
   "cell_type": "code",
   "execution_count": 27,
   "metadata": {},
   "outputs": [
    {
     "data": {
      "text/plain": [
       "20.647471761670815"
      ]
     },
     "execution_count": 27,
     "metadata": {},
     "output_type": "execute_result"
    }
   ],
   "source": [
    "rreg = linear_model.Ridge(alpha=0.05)\n",
    "rreg.fit(x_train, y_train)\n",
    "y_predict = rreg.predict(x_test)\n",
    "score = metrics.mean_squared_error(y_test, y_predict)\n",
    "score"
   ]
  },
  {
   "cell_type": "markdown",
   "metadata": {},
   "source": [
    "U nastavku ćemo prikazati matricu korelacije svaka dva atributa iz skupa podataka. Ukoliko je vrednost bliska 1, za takve podatke se smatra da su visoko korelisani. Model se u nekim slučajevima može poboljšati, tako što se od neka dva visoko korelisana podatka izbaci jedan. Ovakav prikaz u `matplotlib.pyplot` paketu se naziva toplotna mapa (eng. *heatmap*)."
   ]
  },
  {
   "cell_type": "code",
   "execution_count": 28,
   "metadata": {},
   "outputs": [
    {
     "data": {
      "image/png": "[encoded data removed]",
      "text/plain": [
       "<Figure size 432x288 with 2 Axes>"
      ]
     },
     "metadata": {
      "needs_background": "light"
     },
     "output_type": "display_data"
    }
   ],
   "source": [
    "data_hm = pd.DataFrame(data.data)\n",
    "plt.xticks(np.arange(13), list(data.feature_names), rotation='vertical')\n",
    "plt.yticks(np.arange(13), list(data.feature_names))\n",
    "corr = data_hm.corr()\n",
    "plt.imshow(corr)\n",
    "plt.colorbar()\n",
    "plt.show()"
   ]
  }
 ],
 "metadata": {
  "kernelspec": {
   "display_name": "Python 3",
   "language": "python",
   "name": "python3"
  },
  "language_info": {
   "codemirror_mode": {
    "name": "ipython",
    "version": 3
   },
   "file_extension": ".py",
   "mimetype": "text/x-python",
   "name": "python",
   "nbconvert_exporter": "python",
   "pygments_lexer": "ipython3",
   "version": "3.7.6"
  }
 },
 "nbformat": 4,
 "nbformat_minor": 2
}
