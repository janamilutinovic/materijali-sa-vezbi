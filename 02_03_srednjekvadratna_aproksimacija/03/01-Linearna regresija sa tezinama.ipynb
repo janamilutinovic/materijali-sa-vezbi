{
 "cells": [
  {
   "cell_type": "markdown",
   "metadata": {},
   "source": [
    "## Linearna regresija sa tezinama"
   ]
  },
  {
   "cell_type": "markdown",
   "metadata": {},
   "source": [
    "Nekada se u zadacima linearne regresije javlja potreba da predikcija u određenim tačkama bude što je moguće preciznija. Na primer, kada se takve tačke često pojavljuju ili kada su greške u tim tačkama izrazito skupe ili nepoželjne. U modelovanju se ovakvi zahtevi uzimaju u obzir korišćenjem linearne regresije sa težinama. \n",
    "\n",
    "<br>\n",
    "\n",
    "Linearna regresija se težinama ima za cilj minimizaciju otežanih kvadrata reziduala $\\sum_{i}{w_i(y_i - \\beta\\cdot x_i)^2}$. Prosta linearna regresija je specijalni slučaj linearne regresije sa težinama za vrednosti koeficijenata $w_i = 1$. Koeficijenti se mogu odabrati proizvoljno, u skladu sa zahtevima modelovanja i prioritetima. \n",
    "\n",
    "<br>\n",
    "\n",
    "Algebarska forma rešenja linearne regresije sa težinama je oblika $(X^TWX)^{-1}X^TWy$ u kojoj je $W$ dijagonalna matrica sa težinama $w_i$ na glavnoj dijagonali."
   ]
  },
  {
   "cell_type": "code",
   "execution_count": null,
   "metadata": {},
   "outputs": [],
   "source": []
  },
  {
   "cell_type": "markdown",
   "metadata": {},
   "source": [
    "Nadalje će biti korišćen sintetički skup podataka sa idejom da se odredi regresioni model koji će u tačkama čiji su indeksi iz intervala [10,30) povećati preciznost."
   ]
  },
  {
   "cell_type": "code",
   "execution_count": 1,
   "metadata": {},
   "outputs": [],
   "source": [
    "import numpy as np\n",
    "import pandas as pd\n",
    "from matplotlib import pyplot as plt"
   ]
  },
  {
   "cell_type": "code",
   "execution_count": 2,
   "metadata": {},
   "outputs": [],
   "source": [
    "from sklearn import linear_model\n",
    "from sklearn import metrics"
   ]
  },
  {
   "cell_type": "code",
   "execution_count": 3,
   "metadata": {},
   "outputs": [],
   "source": [
    "np.random.seed(11)"
   ]
  },
  {
   "cell_type": "markdown",
   "metadata": {},
   "source": [
    "1. Generisemo skup tacaka"
   ]
  },
  {
   "cell_type": "code",
   "execution_count": 4,
   "metadata": {},
   "outputs": [],
   "source": [
    "N = 50 \n",
    "x = np.random.randn(N)\n",
    "y = 3 + 2*x + np.random.normal(0, 9, N)"
   ]
  },
  {
   "cell_type": "code",
   "execution_count": 5,
   "metadata": {},
   "outputs": [
    {
     "data": {
      "image/png": "[encoded data removed]",
      "text/plain": [
       "<Figure size 432x288 with 1 Axes>"
      ]
     },
     "metadata": {
      "needs_background": "light"
     },
     "output_type": "display_data"
    }
   ],
   "source": [
    "plt.scatter(x, y)\n",
    "plt.show()"
   ]
  },
  {
   "cell_type": "markdown",
   "metadata": {},
   "source": [
    "2. Odredjujemo linearni model "
   ]
  },
  {
   "cell_type": "code",
   "execution_count": 6,
   "metadata": {},
   "outputs": [],
   "source": [
    "model = linear_model.LinearRegression()\n",
    "model.fit(x.reshape(-1, 1), y)\n",
    "beta0, beta1 = model.intercept_, model.coef_[0]"
   ]
  },
  {
   "cell_type": "code",
   "execution_count": 7,
   "metadata": {},
   "outputs": [
    {
     "data": {
      "image/png": "[encoded data removed]",
      "text/plain": [
       "<Figure size 432x288 with 1 Axes>"
      ]
     },
     "metadata": {
      "needs_background": "light"
     },
     "output_type": "display_data"
    }
   ],
   "source": [
    "plt.scatter(x, y)\n",
    "plt.plot(x, beta0+beta1*x, color = 'orange', label = 'prosta regresija')\n",
    "plt.legend(loc = 'best')\n",
    "plt.show()"
   ]
  },
  {
   "cell_type": "markdown",
   "metadata": {},
   "source": [
    "3. Odredjujemo model sa tezinama"
   ]
  },
  {
   "cell_type": "code",
   "execution_count": 8,
   "metadata": {},
   "outputs": [],
   "source": [
    "weights = np.ones(N)\n",
    "index_from = 10\n",
    "index_to = 30\n",
    "weights[index_from:index_to] *= 4"
   ]
  },
  {
   "cell_type": "code",
   "execution_count": 9,
   "metadata": {},
   "outputs": [],
   "source": [
    "model_with_weights = linear_model.LinearRegression()\n",
    "model_with_weights.fit(x.reshape(-1, 1), y, weights)\n",
    "beta0_with_weights, beta1_with_weights = model_with_weights.intercept_, model_with_weights.coef_[0]"
   ]
  },
  {
   "cell_type": "code",
   "execution_count": 10,
   "metadata": {},
   "outputs": [
    {
     "data": {
      "image/png": "[encoded data removed]",
      "text/plain": [
       "<Figure size 432x288 with 1 Axes>"
      ]
     },
     "metadata": {
      "needs_background": "light"
     },
     "output_type": "display_data"
    }
   ],
   "source": [
    "plt.scatter(x, y)\n",
    "plt.plot(x, beta0+beta1*x, color = 'orange', label = 'prosta regresija')\n",
    "plt.plot(x, beta0_with_weights+beta1_with_weights*x, color = 'red', label ='regresija sa tezinama')\n",
    "plt.legend(loc = 'best')\n",
    "plt.show()"
   ]
  },
  {
   "cell_type": "markdown",
   "metadata": {},
   "source": [
    "4. Ocenjujemo greske ovih modela:"
   ]
  },
  {
   "cell_type": "code",
   "execution_count": 11,
   "metadata": {},
   "outputs": [],
   "source": [
    "y_predicted = model.predict(x.reshape(-1, 1))\n",
    "y_predicted_with_weights = model_with_weights.predict(x.reshape(-1, 1))"
   ]
  },
  {
   "cell_type": "code",
   "execution_count": 12,
   "metadata": {},
   "outputs": [],
   "source": [
    "mse = metrics.mean_squared_error(y[index_from:index_to], y_predicted[index_from:index_to])\n",
    "mse_with_weights = metrics.mean_squared_error(y[index_from:index_to], y_predicted_with_weights[index_from:index_to])"
   ]
  },
  {
   "cell_type": "code",
   "execution_count": 13,
   "metadata": {},
   "outputs": [
    {
     "name": "stdout",
     "output_type": "stream",
     "text": [
      "Regularni model:  90.846631807127\n",
      "Model sa tezinama:  87.07191025185108\n"
     ]
    }
   ],
   "source": [
    "print('Regularni model: ', mse)\n",
    "print('Model sa tezinama: ', mse_with_weights)"
   ]
  },
  {
   "cell_type": "code",
   "execution_count": null,
   "metadata": {},
   "outputs": [],
   "source": []
  },
  {
   "cell_type": "markdown",
   "metadata": {},
   "source": [
    "<div class=\"alert alert-success\">\n",
    "Algebarska provera\n",
    "</div>"
   ]
  },
  {
   "cell_type": "code",
   "execution_count": 14,
   "metadata": {},
   "outputs": [
    {
     "data": {
      "text/plain": [
       "array([3.74281563, 3.86844728])"
      ]
     },
     "execution_count": 14,
     "metadata": {},
     "output_type": "execute_result"
    }
   ],
   "source": [
    "W = np.diag(weights)\n",
    "X = np.vstack((np.ones(N), x)).T\n",
    "\n",
    "betas = np.linalg.inv(X.T.dot(W).dot(X)).dot(X.T).dot(W).dot(y)\n",
    "betas"
   ]
  },
  {
   "cell_type": "code",
   "execution_count": 15,
   "metadata": {},
   "outputs": [
    {
     "data": {
      "text/plain": [
       "(3.742815631062569, 3.8684472810004027)"
      ]
     },
     "execution_count": 15,
     "metadata": {},
     "output_type": "execute_result"
    }
   ],
   "source": [
    "beta0_with_weights, beta1_with_weights"
   ]
  },
  {
   "cell_type": "code",
   "execution_count": null,
   "metadata": {},
   "outputs": [],
   "source": []
  }
 ],
 "metadata": {
  "kernelspec": {
   "display_name": "Python 3",
   "language": "python",
   "name": "python3"
  },
  "language_info": {
   "codemirror_mode": {
    "name": "ipython",
    "version": 3
   },
   "file_extension": ".py",
   "mimetype": "text/x-python",
   "name": "python",
   "nbconvert_exporter": "python",
   "pygments_lexer": "ipython3",
   "version": "3.7.4"
  }
 },
 "nbformat": 4,
 "nbformat_minor": 2
}
