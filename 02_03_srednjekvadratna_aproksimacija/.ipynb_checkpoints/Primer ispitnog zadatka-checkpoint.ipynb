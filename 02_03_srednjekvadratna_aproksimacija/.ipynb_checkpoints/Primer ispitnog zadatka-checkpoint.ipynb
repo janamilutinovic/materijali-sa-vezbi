{
 "cells": [
  {
   "cell_type": "markdown",
   "metadata": {},
   "source": [
    "Potrebno je odrediti centar $(p, q)$ i poluprečnik kruga $r$ koji u srednjekvadratnom smislu najbolje aproksimira skup tačaka: (0.7, 4), (7.5, 1.3), (3.3, 4.7), (6.4, -1.1), (5.6, 4.0), (4.4, -3), (0.3, -2.5) i (-1.1, 1.3). Kolika greška se pravi ovom aproksimacijom?"
   ]
  },
  {
   "cell_type": "code",
   "execution_count": null,
   "metadata": {},
   "outputs": [],
   "source": []
  },
  {
   "cell_type": "code",
   "execution_count": 1,
   "metadata": {},
   "outputs": [],
   "source": [
    "import numpy as np\n",
    "from matplotlib import pyplot as plt"
   ]
  },
  {
   "cell_type": "code",
   "execution_count": 2,
   "metadata": {},
   "outputs": [],
   "source": [
    "points = [(0.7, 4), (7.5, 1.3), (3.3, 4.7), (6.4, -1.1), (5.6, 4.0), (4.4, -3), (0.3, -2.5), (-1.1, 1.3)]"
   ]
  },
  {
   "cell_type": "code",
   "execution_count": 3,
   "metadata": {},
   "outputs": [
    {
     "data": {
      "text/plain": [
       "8"
      ]
     },
     "execution_count": 3,
     "metadata": {},
     "output_type": "execute_result"
    }
   ],
   "source": [
    "# broj tacaka\n",
    "N = len(points)\n",
    "N"
   ]
  },
  {
   "cell_type": "code",
   "execution_count": 4,
   "metadata": {},
   "outputs": [],
   "source": [
    "# koordinate tacaka\n",
    "x = np.array([point[0] for point in points])\n",
    "y = np.array([point[1] for point in points])"
   ]
  },
  {
   "cell_type": "code",
   "execution_count": null,
   "metadata": {},
   "outputs": [],
   "source": []
  },
  {
   "cell_type": "markdown",
   "metadata": {},
   "source": [
    "Jednačina kruga $(x-p)^2 + (y-q)^2 = r^2$ se može zapisati u obliku $(p^2 + q^2 - r^2) -2xp - 2yp = -x^2 -y^2$, tj. $c - 2xp - 2yp = -x^2 -y^2$ uz $c=p^2 + q^2 - r^2$ tako da je zavisnost između nepoznatih linearna. "
   ]
  },
  {
   "cell_type": "code",
   "execution_count": 5,
   "metadata": {},
   "outputs": [],
   "source": [
    "# sistem po nepoznatima c, p i q se resava bibilioteckom funkcijom lstsq\n",
    "A = np.vstack((np.ones(N), -2*x, -2*y)).T\n",
    "b = -x**2 -y**2"
   ]
  },
  {
   "cell_type": "code",
   "execution_count": 6,
   "metadata": {},
   "outputs": [],
   "source": [
    "coefs, rss, _, _ = np.linalg.lstsq(A, b, rcond=None)"
   ]
  },
  {
   "cell_type": "code",
   "execution_count": 7,
   "metadata": {},
   "outputs": [],
   "source": [
    "c, p, q = coefs"
   ]
  },
  {
   "cell_type": "code",
   "execution_count": 8,
   "metadata": {},
   "outputs": [
    {
     "name": "stdout",
     "output_type": "stream",
     "text": [
      "Centar kruga je: ( 3.0603035657273527 , 0.7436073210423227 )\n"
     ]
    }
   ],
   "source": [
    "print('Centar kruga je: (', p , ',', q, ')')"
   ]
  },
  {
   "cell_type": "code",
   "execution_count": 9,
   "metadata": {},
   "outputs": [],
   "source": [
    "r = np.sqrt(p**2 + q**2 -c)"
   ]
  },
  {
   "cell_type": "code",
   "execution_count": 10,
   "metadata": {},
   "outputs": [
    {
     "name": "stdout",
     "output_type": "stream",
     "text": [
      "Poluprecnik kruga je:  4.109137036074778\n"
     ]
    }
   ],
   "source": [
    "print('Poluprecnik kruga je: ', r)"
   ]
  },
  {
   "cell_type": "code",
   "execution_count": null,
   "metadata": {},
   "outputs": [],
   "source": []
  },
  {
   "cell_type": "code",
   "execution_count": 11,
   "metadata": {},
   "outputs": [
    {
     "name": "stdout",
     "output_type": "stream",
     "text": [
      "Srednjekvadratna greska koja se pravi aproksimacijom je:  2.5566796885159953\n"
     ]
    }
   ],
   "source": [
    "print('Srednjekvadratna greska koja se pravi aproksimacijom je: ', rss[0]/N)"
   ]
  },
  {
   "cell_type": "markdown",
   "metadata": {},
   "source": [
    "Crtez:"
   ]
  },
  {
   "cell_type": "code",
   "execution_count": 12,
   "metadata": {},
   "outputs": [
    {
     "data": {
      "image/png": "[encoded data removed]",
      "text/plain": [
       "<Figure size 432x288 with 1 Axes>"
      ]
     },
     "metadata": {
      "needs_background": "light"
     },
     "output_type": "display_data"
    }
   ],
   "source": [
    "circle = plt.Circle((p, q), 4, color='blue', fill = False)\n",
    "\n",
    "fig, ax = plt.subplots()\n",
    "\n",
    "plt.xlim(-5,10)\n",
    "plt.ylim(-5,10)\n",
    "plt.grid(linestyle='-')\n",
    "ax.set_aspect(1)\n",
    "\n",
    "ax.add_artist(circle)\n",
    "\n",
    "plt.title('Krug')\n",
    "\n",
    "plt.scatter(x, y, color = 'red')\n",
    "\n",
    "plt.show()"
   ]
  },
  {
   "cell_type": "markdown",
   "metadata": {},
   "source": [
    "Matplotlib artists: \n",
    "<br>\n",
    "https://matplotlib.org/3.1.3/gallery/shapes_and_collections/artist_reference.html#sphx-glr-gallery-shapes-and-collections-artist-reference-py"
   ]
  },
  {
   "cell_type": "code",
   "execution_count": null,
   "metadata": {},
   "outputs": [],
   "source": []
  }
 ],
 "metadata": {
  "kernelspec": {
   "display_name": "Python 3",
   "language": "python",
   "name": "python3"
  },
  "language_info": {
   "codemirror_mode": {
    "name": "ipython",
    "version": 3
   },
   "file_extension": ".py",
   "mimetype": "text/x-python",
   "name": "python",
   "nbconvert_exporter": "python",
   "pygments_lexer": "ipython3",
   "version": "3.7.4"
  }
 },
 "nbformat": 4,
 "nbformat_minor": 2
}
